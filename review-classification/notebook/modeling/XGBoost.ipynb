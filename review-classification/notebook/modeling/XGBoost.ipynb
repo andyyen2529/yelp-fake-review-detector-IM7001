{
 "cells": [
  {
   "cell_type": "markdown",
   "metadata": {},
   "source": [
    "## 備註：目前沒有對XGBoost進行調參。"
   ]
  },
  {
   "cell_type": "code",
   "execution_count": 1,
   "metadata": {},
   "outputs": [],
   "source": [
    "from sklearn.feature_extraction.text import CountVectorizer\n",
    "from sklearn.model_selection import train_test_split\n",
    "from sklearn.metrics import classification_report\n",
    "from sklearn.metrics import plot_confusion_matrix\n",
    "from imblearn.over_sampling import SMOTE\n",
    "from collections import Counter\n",
    "from xgboost import XGBClassifier\n",
    "\n",
    "import itertools\n",
    "import pandas as pd\n",
    "import numpy as np\n",
    "import scipy as sp\n",
    "import matplotlib.pyplot as plt\n",
    "import time\n",
    "\n",
    "np.set_printoptions(suppress=True)"
   ]
  },
  {
   "cell_type": "code",
   "execution_count": 2,
   "metadata": {
    "scrolled": false
   },
   "outputs": [
    {
     "data": {
      "text/html": [
       "<div>\n",
       "<style scoped>\n",
       "    .dataframe tbody tr th:only-of-type {\n",
       "        vertical-align: middle;\n",
       "    }\n",
       "\n",
       "    .dataframe tbody tr th {\n",
       "        vertical-align: top;\n",
       "    }\n",
       "\n",
       "    .dataframe thead th {\n",
       "        text-align: right;\n",
       "    }\n",
       "</style>\n",
       "<table border=\"1\" class=\"dataframe\">\n",
       "  <thead>\n",
       "    <tr style=\"text-align: right;\">\n",
       "      <th></th>\n",
       "      <th>userId</th>\n",
       "      <th>prodId</th>\n",
       "      <th>date</th>\n",
       "      <th>content</th>\n",
       "      <th>content_len</th>\n",
       "      <th>label</th>\n",
       "      <th>rating</th>\n",
       "      <th>average_review_similarity</th>\n",
       "      <th>max_review_similarity</th>\n",
       "      <th>review_count_today</th>\n",
       "      <th>...</th>\n",
       "      <th>neg</th>\n",
       "      <th>neu</th>\n",
       "      <th>pos</th>\n",
       "      <th>compound</th>\n",
       "      <th>cap_word_count</th>\n",
       "      <th>digit_word_count</th>\n",
       "      <th>absolute_compound</th>\n",
       "      <th>length_deviation</th>\n",
       "      <th>review_count</th>\n",
       "      <th>extreme_rating_ratio</th>\n",
       "    </tr>\n",
       "  </thead>\n",
       "  <tbody>\n",
       "    <tr>\n",
       "      <th>0</th>\n",
       "      <td>5044</td>\n",
       "      <td>0</td>\n",
       "      <td>2014-11-16</td>\n",
       "      <td>Drinks were bad, the hot chocolate was watered...</td>\n",
       "      <td>36</td>\n",
       "      <td>-1</td>\n",
       "      <td>1.0</td>\n",
       "      <td>0.000000</td>\n",
       "      <td>0.0000</td>\n",
       "      <td>1</td>\n",
       "      <td>...</td>\n",
       "      <td>0.513</td>\n",
       "      <td>0.487</td>\n",
       "      <td>0.000</td>\n",
       "      <td>-0.9287</td>\n",
       "      <td>0</td>\n",
       "      <td>0</td>\n",
       "      <td>0.9287</td>\n",
       "      <td>0.527778</td>\n",
       "      <td>1</td>\n",
       "      <td>0.0</td>\n",
       "    </tr>\n",
       "    <tr>\n",
       "      <th>1</th>\n",
       "      <td>5045</td>\n",
       "      <td>0</td>\n",
       "      <td>2014-09-08</td>\n",
       "      <td>This was the worst experience I've ever had a ...</td>\n",
       "      <td>248</td>\n",
       "      <td>-1</td>\n",
       "      <td>1.0</td>\n",
       "      <td>0.000000</td>\n",
       "      <td>0.0000</td>\n",
       "      <td>1</td>\n",
       "      <td>...</td>\n",
       "      <td>0.195</td>\n",
       "      <td>0.584</td>\n",
       "      <td>0.221</td>\n",
       "      <td>0.6128</td>\n",
       "      <td>0</td>\n",
       "      <td>2</td>\n",
       "      <td>0.6128</td>\n",
       "      <td>0.508065</td>\n",
       "      <td>1</td>\n",
       "      <td>0.0</td>\n",
       "    </tr>\n",
       "    <tr>\n",
       "      <th>2</th>\n",
       "      <td>5046</td>\n",
       "      <td>0</td>\n",
       "      <td>2013-10-06</td>\n",
       "      <td>This is located on the site of the old Spruce ...</td>\n",
       "      <td>50</td>\n",
       "      <td>-1</td>\n",
       "      <td>3.0</td>\n",
       "      <td>0.162733</td>\n",
       "      <td>0.3298</td>\n",
       "      <td>1</td>\n",
       "      <td>...</td>\n",
       "      <td>0.000</td>\n",
       "      <td>0.610</td>\n",
       "      <td>0.390</td>\n",
       "      <td>0.9153</td>\n",
       "      <td>1</td>\n",
       "      <td>0</td>\n",
       "      <td>0.9153</td>\n",
       "      <td>0.520000</td>\n",
       "      <td>4</td>\n",
       "      <td>0.0</td>\n",
       "    </tr>\n",
       "    <tr>\n",
       "      <th>3</th>\n",
       "      <td>5047</td>\n",
       "      <td>0</td>\n",
       "      <td>2014-11-30</td>\n",
       "      <td>I enjoyed coffee and breakfast twice at Toast ...</td>\n",
       "      <td>233</td>\n",
       "      <td>-1</td>\n",
       "      <td>5.0</td>\n",
       "      <td>0.000000</td>\n",
       "      <td>0.0000</td>\n",
       "      <td>1</td>\n",
       "      <td>...</td>\n",
       "      <td>0.016</td>\n",
       "      <td>0.614</td>\n",
       "      <td>0.370</td>\n",
       "      <td>0.9954</td>\n",
       "      <td>1</td>\n",
       "      <td>0</td>\n",
       "      <td>0.9954</td>\n",
       "      <td>0.446352</td>\n",
       "      <td>1</td>\n",
       "      <td>0.0</td>\n",
       "    </tr>\n",
       "    <tr>\n",
       "      <th>4</th>\n",
       "      <td>5048</td>\n",
       "      <td>0</td>\n",
       "      <td>2014-08-28</td>\n",
       "      <td>I love Toast! The food choices are fantastic -...</td>\n",
       "      <td>152</td>\n",
       "      <td>-1</td>\n",
       "      <td>5.0</td>\n",
       "      <td>0.000000</td>\n",
       "      <td>0.0000</td>\n",
       "      <td>1</td>\n",
       "      <td>...</td>\n",
       "      <td>0.000</td>\n",
       "      <td>0.518</td>\n",
       "      <td>0.482</td>\n",
       "      <td>0.9945</td>\n",
       "      <td>0</td>\n",
       "      <td>0</td>\n",
       "      <td>0.9945</td>\n",
       "      <td>0.480263</td>\n",
       "      <td>1</td>\n",
       "      <td>0.0</td>\n",
       "    </tr>\n",
       "  </tbody>\n",
       "</table>\n",
       "<p>5 rows × 24 columns</p>\n",
       "</div>"
      ],
      "text/plain": [
       "   userId  prodId        date  \\\n",
       "0    5044       0  2014-11-16   \n",
       "1    5045       0  2014-09-08   \n",
       "2    5046       0  2013-10-06   \n",
       "3    5047       0  2014-11-30   \n",
       "4    5048       0  2014-08-28   \n",
       "\n",
       "                                             content  content_len  label  \\\n",
       "0  Drinks were bad, the hot chocolate was watered...           36     -1   \n",
       "1  This was the worst experience I've ever had a ...          248     -1   \n",
       "2  This is located on the site of the old Spruce ...           50     -1   \n",
       "3  I enjoyed coffee and breakfast twice at Toast ...          233     -1   \n",
       "4  I love Toast! The food choices are fantastic -...          152     -1   \n",
       "\n",
       "   rating  average_review_similarity  max_review_similarity  \\\n",
       "0     1.0                   0.000000                 0.0000   \n",
       "1     1.0                   0.000000                 0.0000   \n",
       "2     3.0                   0.162733                 0.3298   \n",
       "3     5.0                   0.000000                 0.0000   \n",
       "4     5.0                   0.000000                 0.0000   \n",
       "\n",
       "   review_count_today  ...    neg    neu    pos compound  cap_word_count  \\\n",
       "0                   1  ...  0.513  0.487  0.000  -0.9287               0   \n",
       "1                   1  ...  0.195  0.584  0.221   0.6128               0   \n",
       "2                   1  ...  0.000  0.610  0.390   0.9153               1   \n",
       "3                   1  ...  0.016  0.614  0.370   0.9954               1   \n",
       "4                   1  ...  0.000  0.518  0.482   0.9945               0   \n",
       "\n",
       "   digit_word_count  absolute_compound  length_deviation  review_count  \\\n",
       "0                 0             0.9287          0.527778             1   \n",
       "1                 2             0.6128          0.508065             1   \n",
       "2                 0             0.9153          0.520000             4   \n",
       "3                 0             0.9954          0.446352             1   \n",
       "4                 0             0.9945          0.480263             1   \n",
       "\n",
       "   extreme_rating_ratio  \n",
       "0                   0.0  \n",
       "1                   0.0  \n",
       "2                   0.0  \n",
       "3                   0.0  \n",
       "4                   0.0  \n",
       "\n",
       "[5 rows x 24 columns]"
      ]
     },
     "execution_count": 2,
     "metadata": {},
     "output_type": "execute_result"
    }
   ],
   "source": [
    "yelpZip_preprocessed = pd.read_pickle('data/processed/yelpZip_preprocessed.pkl')\n",
    "\n",
    "yelpZip_data = yelpZip_preprocessed.copy()\n",
    "yelpZip_data.head()"
   ]
  },
  {
   "cell_type": "markdown",
   "metadata": {},
   "source": [
    "# Experiment 1  - without text features"
   ]
  },
  {
   "cell_type": "markdown",
   "metadata": {},
   "source": [
    "## Prepare dataset to feed into model"
   ]
  },
  {
   "cell_type": "code",
   "execution_count": 3,
   "metadata": {},
   "outputs": [],
   "source": [
    "yelpZip_data['label'].replace(1, True, inplace=True)\n",
    "yelpZip_data['label'].replace(-1, False, inplace=True)"
   ]
  },
  {
   "cell_type": "code",
   "execution_count": 4,
   "metadata": {},
   "outputs": [],
   "source": [
    "x_train, x_test, y_train, y_test = train_test_split(yelpZip_data.drop('label',axis=1), yelpZip_data['label'], test_size=0.25, random_state=42)"
   ]
  },
  {
   "cell_type": "code",
   "execution_count": 5,
   "metadata": {},
   "outputs": [],
   "source": [
    "features = ['average_review_similarity', 'max_review_similarity', 'review_count_today', 'rating_deviation', 'tokenize_content_len',\n",
    "           'absolute_compound', 'cap_word_count', 'digit_word_count', 'length_deviation', 'review_count', 'extreme_rating_ratio']\n",
    "\n",
    "x_train = x_train[features]\n",
    "x_test = x_test[features]"
   ]
  },
  {
   "cell_type": "markdown",
   "metadata": {},
   "source": [
    "## Train and Evaluate"
   ]
  },
  {
   "cell_type": "markdown",
   "metadata": {},
   "source": [
    "### Experiment 1A. Without Oversampling"
   ]
  },
  {
   "cell_type": "code",
   "execution_count": 6,
   "metadata": {},
   "outputs": [
    {
     "name": "stdout",
     "output_type": "stream",
     "text": [
      "Training accuracy: 0.8750525799214807\n",
      "Test accuracy: 0.8711863292803155\n",
      "\n",
      "              precision    recall  f1-score   support\n",
      "\n",
      "       False       0.61      0.08      0.14     20153\n",
      "        True       0.88      0.99      0.93    131997\n",
      "\n",
      "    accuracy                           0.87    152150\n",
      "   macro avg       0.74      0.53      0.53    152150\n",
      "weighted avg       0.84      0.87      0.83    152150\n",
      "\n"
     ]
    },
    {
     "data": {
      "image/png": "[encoded data removed]",
      "text/plain": [
       "<Figure size 432x288 with 2 Axes>"
      ]
     },
     "metadata": {
      "needs_background": "light"
     },
     "output_type": "display_data"
    },
    {
     "name": "stdout",
     "output_type": "stream",
     "text": [
      "Complete in 0.0m 2.4732484817504883s\n"
     ]
    }
   ],
   "source": [
    "# Boosting\n",
    "since = time.time()\n",
    "\n",
    "classifier = XGBClassifier(\n",
    "    eta=0.3, \n",
    "    min_child_weight=1,\n",
    "    objective='binary:logistic', \n",
    "    tree_method='gpu_hist', gpu_id=0, \n",
    "    use_label_encoder=False, \n",
    "    eval_metric='logloss')\n",
    "    # use_label_encoder=False: 標記沒有做讀熱編碼\n",
    "classifier.fit(x_train, y_train)\n",
    "score = classifier.score(x_test, y_test)\n",
    "\n",
    "print(f'Training accuracy: {classifier.score(x_train, y_train)}')\n",
    "print(f'Test accuracy: {score}\\n')\n",
    "\n",
    "predictions = classifier.predict(x_test)\n",
    "print(classification_report(y_test, predictions))\n",
    "\n",
    "class_names = ['Fake Review', 'True Review']\n",
    "\n",
    "disp = plot_confusion_matrix(classifier, x_test, y_test, display_labels=class_names, \n",
    "                             cmap=plt.cm.Blues, values_format='.6g')\n",
    "\n",
    "plt.show()\n",
    "\n",
    "time_elapsed = time.time() - since\n",
    "print(f'Complete in {time_elapsed // 60}m {time_elapsed % 60}s')"
   ]
  },
  {
   "cell_type": "code",
   "execution_count": 7,
   "metadata": {},
   "outputs": [
    {
     "name": "stdout",
     "output_type": "stream",
     "text": [
      "feature importances:\n",
      "0.0756967 average_review_similarity\n",
      "0.2839073 max_review_similarity\n",
      "0.1136201 review_count_today\n",
      "0.0652287 rating_deviation\n",
      "0.0532465 tokenize_content_len\n",
      "0.0200069 absolute_compound\n",
      "0.0215541 cap_word_count\n",
      "0.0142662 digit_word_count\n",
      "0.0236310 length_deviation\n",
      "0.2778826 review_count\n",
      "0.0509598 extreme_rating_ratio\n"
     ]
    }
   ],
   "source": [
    "print('feature importances:')\n",
    "for i in range(len(features)):\n",
    "    print(f'{classifier.feature_importances_[i]:.7f} {features[i]}')"
   ]
  },
  {
   "cell_type": "markdown",
   "metadata": {},
   "source": [
    "### Experiment 1B. With Oversampling"
   ]
  },
  {
   "cell_type": "code",
   "execution_count": 8,
   "metadata": {},
   "outputs": [
    {
     "name": "stdout",
     "output_type": "stream",
     "text": [
      "Complete in 0.0m 2.2426834106445312s\n"
     ]
    }
   ],
   "source": [
    "since = time.time()\n",
    "\n",
    "ros = SMOTE(random_state=42)\n",
    "x_train_oversampled, y_train_oversampled = ros.fit_resample(x_train, y_train)\n",
    "\n",
    "time_elapsed = time.time() - since\n",
    "print(f'Complete in {time_elapsed // 60}m {time_elapsed % 60}s')"
   ]
  },
  {
   "cell_type": "code",
   "execution_count": 9,
   "metadata": {},
   "outputs": [
    {
     "name": "stdout",
     "output_type": "stream",
     "text": [
      "Training accuracy: 0.8279967687783205\n",
      "Test accuracy: 0.7539533355241538\n",
      "\n",
      "              precision    recall  f1-score   support\n",
      "\n",
      "       False       0.31      0.68      0.42     20153\n",
      "        True       0.94      0.76      0.84    131997\n",
      "\n",
      "    accuracy                           0.75    152150\n",
      "   macro avg       0.62      0.72      0.63    152150\n",
      "weighted avg       0.86      0.75      0.79    152150\n",
      "\n"
     ]
    },
    {
     "data": {
      "image/png": "[encoded data removed]",
      "text/plain": [
       "<Figure size 432x288 with 2 Axes>"
      ]
     },
     "metadata": {
      "needs_background": "light"
     },
     "output_type": "display_data"
    },
    {
     "name": "stdout",
     "output_type": "stream",
     "text": [
      "Complete in 0.0m 2.8740570545196533s\n"
     ]
    }
   ],
   "source": [
    "# Boosting\n",
    "since = time.time()\n",
    "\n",
    "classifier = XGBClassifier(\n",
    "    eta=0.3, \n",
    "    min_child_weight=1,\n",
    "    objective='binary:logistic', \n",
    "    tree_method='gpu_hist', gpu_id=0, \n",
    "    use_label_encoder=False, \n",
    "    eval_metric='logloss')\n",
    "    # use_label_encoder=False: 標記沒有做讀熱編碼\n",
    "classifier.fit(x_train_oversampled, y_train_oversampled)\n",
    "score = classifier.score(x_test, y_test)\n",
    "\n",
    "print(f'Training accuracy: {classifier.score(x_train_oversampled, y_train_oversampled)}')\n",
    "print(f'Test accuracy: {score}\\n')\n",
    "\n",
    "predictions = classifier.predict(x_test)\n",
    "print(classification_report(y_test, predictions))\n",
    "\n",
    "class_names = ['Fake Review', 'True Review']\n",
    "\n",
    "disp = plot_confusion_matrix(classifier, x_test, y_test, display_labels=class_names, \n",
    "                             cmap=plt.cm.Blues, values_format='.6g')\n",
    "\n",
    "plt.show()\n",
    "\n",
    "time_elapsed = time.time() - since\n",
    "print(f'Complete in {time_elapsed // 60}m {time_elapsed % 60}s')"
   ]
  },
  {
   "cell_type": "code",
   "execution_count": 10,
   "metadata": {},
   "outputs": [
    {
     "name": "stdout",
     "output_type": "stream",
     "text": [
      "feature importances:\n",
      "0.0496814 average_review_similarity\n",
      "0.0299670 max_review_similarity\n",
      "0.0999333 review_count_today\n",
      "0.0411135 rating_deviation\n",
      "0.0545647 tokenize_content_len\n",
      "0.0334898 absolute_compound\n",
      "0.0423340 cap_word_count\n",
      "0.0543404 digit_word_count\n",
      "0.0687322 length_deviation\n",
      "0.3884234 review_count\n",
      "0.1374202 extreme_rating_ratio\n"
     ]
    }
   ],
   "source": [
    "print('feature importances:')\n",
    "for i in range(len(features)):\n",
    "    print(f'{classifier.feature_importances_[i]:.7f} {features[i]}')"
   ]
  },
  {
   "cell_type": "markdown",
   "metadata": {},
   "source": [
    "# Experiment 2 - only text features"
   ]
  },
  {
   "cell_type": "markdown",
   "metadata": {},
   "source": [
    "## Prepare dataset to feed into model"
   ]
  },
  {
   "cell_type": "code",
   "execution_count": 6,
   "metadata": {},
   "outputs": [],
   "source": [
    "x_train, x_test, y_train, y_test = train_test_split(yelpZip_data.drop('label',axis=1), yelpZip_data['label'], test_size=0.25, random_state=42)"
   ]
  },
  {
   "cell_type": "markdown",
   "metadata": {},
   "source": [
    "### 1. Transform corpus to vector"
   ]
  },
  {
   "cell_type": "code",
   "execution_count": 7,
   "metadata": {},
   "outputs": [
    {
     "name": "stdout",
     "output_type": "stream",
     "text": [
      "Complete in 0.0m 19.970421075820923s\n"
     ]
    }
   ],
   "source": [
    "since = time.time()\n",
    "\n",
    "vectorizer = CountVectorizer(max_features=15000)\n",
    "vectorizer.fit(x_train['corpus'])\n",
    "\n",
    "time_elapsed = time.time() - since\n",
    "print(f'Complete in {time_elapsed // 60}m {time_elapsed % 60}s')"
   ]
  },
  {
   "cell_type": "code",
   "execution_count": 8,
   "metadata": {},
   "outputs": [
    {
     "name": "stdout",
     "output_type": "stream",
     "text": [
      "Complete in 0.0m 25.90561318397522s\n"
     ]
    }
   ],
   "source": [
    "since = time.time()\n",
    "\n",
    "x_train = vectorizer.transform(x_train['corpus'])\n",
    "x_test  = vectorizer.transform(x_test['corpus'])\n",
    "\n",
    "time_elapsed = time.time() - since\n",
    "print(f'Complete in {time_elapsed // 60}m {time_elapsed % 60}s')"
   ]
  },
  {
   "cell_type": "markdown",
   "metadata": {},
   "source": [
    "### 2. feature selection：chi-square"
   ]
  },
  {
   "cell_type": "code",
   "execution_count": 9,
   "metadata": {
    "scrolled": true
   },
   "outputs": [
    {
     "name": "stdout",
     "output_type": "stream",
     "text": [
      "x_train_selected shape: (456448, 150)\n",
      "x_test_selected shape: (152150, 150)\n"
     ]
    }
   ],
   "source": [
    "from sklearn.feature_selection import SelectKBest\n",
    "from sklearn.feature_selection import chi2\n",
    "\n",
    "pick_K = SelectKBest(chi2, k=150)\n",
    "x_train_selected = pick_K.fit_transform(x_train, y_train)\n",
    "print(\"x_train_selected shape:\", x_train_selected.shape)\n",
    "\n",
    "x_test_selected = pick_K.transform(x_test)  # transform不用Y，因為已經決定好要那些特徵了\n",
    "print(\"x_test_selected shape:\", x_test_selected.shape)"
   ]
  },
  {
   "cell_type": "code",
   "execution_count": 10,
   "metadata": {},
   "outputs": [],
   "source": [
    "features_text = []\n",
    "mask = pick_K.get_support()\n",
    "for bool, feature in zip(mask, vectorizer.get_feature_names()):\n",
    "    if bool:\n",
    "        features_text.append(feature)"
   ]
  },
  {
   "cell_type": "markdown",
   "metadata": {},
   "source": [
    "## Train and Evaluate"
   ]
  },
  {
   "cell_type": "markdown",
   "metadata": {},
   "source": [
    "### Experiment 2A. Without Oversampling"
   ]
  },
  {
   "cell_type": "code",
   "execution_count": 11,
   "metadata": {},
   "outputs": [
    {
     "name": "stdout",
     "output_type": "stream",
     "text": [
      "Training accuracy: 0.8692490710880538\n",
      "Test accuracy: 0.8674794610581663\n",
      "\n",
      "              precision    recall  f1-score   support\n",
      "\n",
      "       False       0.49      0.01      0.02     20153\n",
      "        True       0.87      1.00      0.93    131997\n",
      "\n",
      "    accuracy                           0.87    152150\n",
      "   macro avg       0.68      0.50      0.47    152150\n",
      "weighted avg       0.82      0.87      0.81    152150\n",
      "\n"
     ]
    },
    {
     "data": {
      "image/png": "[encoded data removed]",
      "text/plain": [
       "<Figure size 432x288 with 2 Axes>"
      ]
     },
     "metadata": {
      "needs_background": "light"
     },
     "output_type": "display_data"
    },
    {
     "name": "stdout",
     "output_type": "stream",
     "text": [
      "Complete in 0.0m 6.587561845779419s\n"
     ]
    }
   ],
   "source": [
    "# Boosting\n",
    "since = time.time()\n",
    "\n",
    "classifier = XGBClassifier(\n",
    "    eta=0.3, \n",
    "    min_child_weight=1,\n",
    "    objective='binary:logistic', \n",
    "    tree_method='gpu_hist', gpu_id=0, \n",
    "    use_label_encoder=False, \n",
    "    eval_metric='logloss')\n",
    "    # use_label_encoder=False: 標記沒有做讀熱編碼\n",
    "classifier.fit(x_train_selected, y_train)\n",
    "score = classifier.score(x_test_selected, y_test)\n",
    "\n",
    "print(f'Training accuracy: {classifier.score(x_train_selected, y_train)}')\n",
    "print(f'Test accuracy: {score}\\n')\n",
    "\n",
    "predictions = classifier.predict(x_test_selected)\n",
    "print(classification_report(y_test, predictions))\n",
    "\n",
    "class_names = ['Fake Review', 'True Review']\n",
    "\n",
    "disp = plot_confusion_matrix(classifier, x_test_selected, y_test, display_labels=class_names, \n",
    "                             cmap=plt.cm.Blues, values_format='.6g')\n",
    "\n",
    "plt.show()\n",
    "\n",
    "time_elapsed = time.time() - since\n",
    "print(f'Complete in {time_elapsed // 60}m {time_elapsed % 60}s')"
   ]
  },
  {
   "cell_type": "code",
   "execution_count": 12,
   "metadata": {},
   "outputs": [
    {
     "name": "stdout",
     "output_type": "stream",
     "text": [
      "0.0020107 well\n",
      "0.0020339 since\n",
      "0.0020499 potato\n",
      "0.0021078 big\n",
      "0.0021353 one\n",
      "0.0021457 tender\n",
      "0.0022089 hot\n",
      "0.0022168 green\n",
      "0.0022254 portion\n",
      "0.0022407 friend\n",
      "0.0023040 lot\n",
      "0.0023338 right\n",
      "0.0023548 chicken\n",
      "0.0023819 try\n",
      "0.0023927 like\n",
      "0.0024310 much\n",
      "0.0024459 enough\n",
      "0.0024542 fan\n",
      "0.0024627 place\n",
      "0.0024973 special\n",
      "0.0025090 cream\n",
      "0.0025146 menu\n",
      "0.0025167 soft\n",
      "0.0025635 french\n",
      "0.0025775 sure\n",
      "0.0025781 back\n",
      "0.0025934 wait\n",
      "0.0026131 around\n",
      "0.0026238 roll\n",
      "0.0026306 dessert\n",
      "0.0026484 thing\n",
      "0.0026502 bean\n",
      "0.0026555 meal\n",
      "0.0026743 burger\n",
      "0.0026903 onion\n",
      "0.0027103 would\n",
      "0.0027114 two\n",
      "0.0027253 bread\n",
      "0.0027562 next\n",
      "0.0027629 table\n",
      "0.0028124 dish\n",
      "0.0028238 salad\n",
      "0.0028735 nice\n",
      "0.0028775 taste\n",
      "0.0029024 soup\n",
      "0.0029748 texture\n",
      "0.0030246 overall\n",
      "0.0030579 bun\n",
      "0.0030839 thats\n",
      "0.0031076 bar\n",
      "0.0031779 quite\n",
      "0.0031857 bite\n",
      "0.0031951 tomato\n",
      "0.0033972 dont\n",
      "0.0034958 red\n",
      "0.0035696 rice\n",
      "0.0036911 grilled\n",
      "0.0037000 chocolate\n",
      "0.0037071 plate\n",
      "0.0037765 maybe\n",
      "0.0037865 inside\n",
      "0.0038183 get\n",
      "0.0039220 roasted\n",
      "0.0039413 large\n",
      "0.0040515 bacon\n",
      "0.0041330 didnt\n",
      "0.0042102 kind\n",
      "0.0042256 still\n",
      "0.0043244 ordered\n",
      "0.0044495 belly\n",
      "0.0049762 beef\n",
      "0.0050727 light\n",
      "0.0050894 line\n",
      "0.0051367 think\n",
      "0.0051658 meat\n",
      "0.0051837 perfect\n",
      "0.0051973 mushroom\n",
      "0.0052406 happy\n",
      "0.0053309 corn\n",
      "0.0053826 sausage\n",
      "0.0054700 liked\n",
      "0.0055393 huge\n",
      "0.0056029 sandwich\n",
      "0.0057930 duck\n",
      "0.0059670 waffle\n",
      "0.0059891 beer\n",
      "0.0061637 veggie\n",
      "0.0062158 salty\n",
      "0.0062766 staff\n",
      "0.0064094 bowl\n",
      "0.0064532 small\n",
      "0.0066369 white\n",
      "0.0067054 pancake\n",
      "0.0068069 wasnt\n",
      "0.0071040 broth\n",
      "0.0071132 cheese\n",
      "0.0071526 toast\n",
      "0.0072216 fry\n",
      "0.0073021 slightly\n",
      "0.0075664 ive\n",
      "0.0077221 delicious\n",
      "0.0077601 ramen\n",
      "0.0079407 customer\n",
      "0.0079725 came\n",
      "0.0081321 good\n",
      "0.0082876 worst\n",
      "0.0083742 really\n",
      "0.0083791 definitely\n",
      "0.0086541 decent\n",
      "0.0086855 horrible\n",
      "0.0086887 come\n",
      "0.0089364 option\n",
      "0.0089976 star\n",
      "0.0092805 dumpling\n",
      "0.0093462 though\n",
      "0.0095042 creamy\n",
      "0.0096194 rude\n",
      "0.0101128 space\n",
      "0.0104360 got\n",
      "0.0107028 fried\n",
      "0.0108316 owner\n",
      "0.0108554 perfectly\n",
      "0.0109221 also\n",
      "0.0109865 flavorful\n",
      "0.0110685 side\n",
      "0.0115595 sweet\n",
      "0.0116875 little\n",
      "0.0118558 spot\n",
      "0.0120933 crispy\n",
      "0.0120945 probably\n",
      "0.0124810 ill\n",
      "0.0128671 spicy\n",
      "0.0128870 egg\n",
      "0.0130263 id\n",
      "0.0136201 im\n",
      "0.0136698 youre\n",
      "0.0138267 noodle\n",
      "0.0140331 manager\n",
      "0.0144247 super\n",
      "0.0147794 brunch\n",
      "0.0158373 sauce\n",
      "0.0159699 there\n",
      "0.0159885 seating\n",
      "0.0161703 bit\n",
      "0.0179183 flavor\n",
      "0.0181049 pork\n",
      "0.0184016 cute\n",
      "0.0196051 solid\n",
      "0.0197826 tasty\n",
      "0.0304186 pretty\n"
     ]
    }
   ],
   "source": [
    "index = sorted(range(len(classifier.feature_importances_)), key=lambda k: classifier.feature_importances_[k])\n",
    "fi_sort = sorted(classifier.feature_importances_)\n",
    "for i in range(len(features_text)):\n",
    "    print(f'{fi_sort[i]:.7f} {features_text[index[i]]}')"
   ]
  },
  {
   "cell_type": "markdown",
   "metadata": {},
   "source": [
    "### Experiment 2B. With Oversampling"
   ]
  },
  {
   "cell_type": "code",
   "execution_count": 13,
   "metadata": {},
   "outputs": [
    {
     "name": "stdout",
     "output_type": "stream",
     "text": [
      "Complete in 1.0m 54.96210765838623s\n"
     ]
    }
   ],
   "source": [
    "since = time.time()\n",
    "\n",
    "ros = SMOTE(random_state=42)\n",
    "x_train_oversampled, y_train_oversampled = ros.fit_resample(x_train_selected, y_train)\n",
    "\n",
    "time_elapsed = time.time() - since\n",
    "print(f'Complete in {time_elapsed // 60}m {time_elapsed % 60}s')"
   ]
  },
  {
   "cell_type": "code",
   "execution_count": 14,
   "metadata": {},
   "outputs": [
    {
     "name": "stdout",
     "output_type": "stream",
     "text": [
      "Training accuracy: 0.8918247567117271\n",
      "Test accuracy: 0.8381005586592178\n",
      "\n",
      "              precision    recall  f1-score   support\n",
      "\n",
      "       False       0.29      0.15      0.20     20153\n",
      "        True       0.88      0.94      0.91    131997\n",
      "\n",
      "    accuracy                           0.84    152150\n",
      "   macro avg       0.58      0.55      0.55    152150\n",
      "weighted avg       0.80      0.84      0.82    152150\n",
      "\n"
     ]
    },
    {
     "data": {
      "image/png": "[encoded data removed]",
      "text/plain": [
       "<Figure size 432x288 with 2 Axes>"
      ]
     },
     "metadata": {
      "needs_background": "light"
     },
     "output_type": "display_data"
    },
    {
     "name": "stdout",
     "output_type": "stream",
     "text": [
      "Complete in 0.0m 8.158648252487183s\n"
     ]
    }
   ],
   "source": [
    "# Boosting\n",
    "since = time.time()\n",
    "\n",
    "classifier = XGBClassifier(\n",
    "    eta=0.3, \n",
    "    min_child_weight=1,\n",
    "    objective='binary:logistic', \n",
    "    tree_method='gpu_hist', gpu_id=0, \n",
    "    use_label_encoder=False, \n",
    "    eval_metric='logloss')\n",
    "    # use_label_encoder=False: 標記沒有做讀熱編碼\n",
    "classifier.fit(x_train_oversampled, y_train_oversampled)\n",
    "score = classifier.score(x_test_selected, y_test)\n",
    "\n",
    "print(f'Training accuracy: {classifier.score(x_train_oversampled, y_train_oversampled)}')\n",
    "print(f'Test accuracy: {score}\\n')\n",
    "\n",
    "predictions = classifier.predict(x_test_selected)\n",
    "print(classification_report(y_test, predictions))\n",
    "\n",
    "class_names = ['Fake Review', 'True Review']\n",
    "\n",
    "disp = plot_confusion_matrix(classifier, x_test_selected, y_test, display_labels=class_names, \n",
    "                             cmap=plt.cm.Blues, values_format='.6g')\n",
    "\n",
    "plt.show()\n",
    "\n",
    "time_elapsed = time.time() - since\n",
    "print(f'Complete in {time_elapsed // 60}m {time_elapsed % 60}s')"
   ]
  },
  {
   "cell_type": "code",
   "execution_count": 15,
   "metadata": {},
   "outputs": [
    {
     "name": "stdout",
     "output_type": "stream",
     "text": [
      "0.0000000 creamy\n",
      "0.0000000 green\n",
      "0.0000000 light\n",
      "0.0000000 onion\n",
      "0.0000000 roasted\n",
      "0.0000000 soft\n",
      "0.0000000 tender\n",
      "0.0000000 texture\n",
      "0.0000000 tomato\n",
      "0.0000968 bowl\n",
      "0.0001195 slightly\n",
      "0.0001373 belly\n",
      "0.0001777 bean\n",
      "0.0003779 bun\n",
      "0.0006289 cream\n",
      "0.0007351 chocolate\n",
      "0.0007703 red\n",
      "0.0008187 broth\n",
      "0.0008826 waffle\n",
      "0.0008994 worst\n",
      "0.0009040 potato\n",
      "0.0009945 bacon\n",
      "0.0011795 bite\n",
      "0.0011828 inside\n",
      "0.0011896 maybe\n",
      "0.0012205 horrible\n",
      "0.0012427 french\n",
      "0.0013698 salty\n",
      "0.0013869 rude\n",
      "0.0014111 manager\n",
      "0.0014167 duck\n",
      "0.0014992 grilled\n",
      "0.0016602 mushroom\n",
      "0.0018786 toast\n",
      "0.0019850 liked\n",
      "0.0019954 large\n",
      "0.0020528 rice\n",
      "0.0020558 fan\n",
      "0.0021163 veggie\n",
      "0.0021578 kind\n",
      "0.0021616 flavorful\n",
      "0.0021821 sausage\n",
      "0.0022469 customer\n",
      "0.0022739 crispy\n",
      "0.0022770 beef\n",
      "0.0022884 plate\n",
      "0.0023023 quite\n",
      "0.0024058 roll\n",
      "0.0025022 owner\n",
      "0.0025491 pancake\n",
      "0.0025903 perfectly\n",
      "0.0027203 hot\n",
      "0.0027693 overall\n",
      "0.0028046 there\n",
      "0.0028491 white\n",
      "0.0029052 bread\n",
      "0.0030600 wasnt\n",
      "0.0031484 thats\n",
      "0.0031697 burger\n",
      "0.0034699 big\n",
      "0.0034981 corn\n",
      "0.0035394 space\n",
      "0.0037971 probably\n",
      "0.0038643 ill\n",
      "0.0039571 soup\n",
      "0.0041367 dessert\n",
      "0.0041393 dumpling\n",
      "0.0041697 next\n",
      "0.0041725 cute\n",
      "0.0042293 seating\n",
      "0.0042518 enough\n",
      "0.0045014 ramen\n",
      "0.0049423 line\n",
      "0.0050441 meat\n",
      "0.0050602 solid\n",
      "0.0051224 didnt\n",
      "0.0052781 would\n",
      "0.0053536 huge\n",
      "0.0054248 back\n",
      "0.0056605 sandwich\n",
      "0.0056988 one\n",
      "0.0058624 two\n",
      "0.0058789 like\n",
      "0.0058815 lot\n",
      "0.0060383 since\n",
      "0.0061633 id\n",
      "0.0062186 table\n",
      "0.0062752 decent\n",
      "0.0063443 noodle\n",
      "0.0064574 option\n",
      "0.0064941 super\n",
      "0.0066511 staff\n",
      "0.0066838 perfect\n",
      "0.0067808 portion\n",
      "0.0068353 get\n",
      "0.0070782 sure\n",
      "0.0071057 still\n",
      "0.0071686 spicy\n",
      "0.0073193 salad\n",
      "0.0073796 bar\n",
      "0.0076100 sweet\n",
      "0.0077028 happy\n",
      "0.0077163 right\n",
      "0.0077422 brunch\n",
      "0.0077498 around\n",
      "0.0078996 fry\n",
      "0.0079054 meal\n",
      "0.0079064 think\n",
      "0.0080800 beer\n",
      "0.0081278 good\n",
      "0.0083410 youre\n",
      "0.0085421 fried\n",
      "0.0089376 egg\n",
      "0.0090332 flavor\n",
      "0.0095063 ordered\n",
      "0.0095912 menu\n",
      "0.0097741 also\n",
      "0.0098212 side\n",
      "0.0101000 dish\n",
      "0.0101664 much\n",
      "0.0103548 star\n",
      "0.0109160 place\n",
      "0.0109466 thing\n",
      "0.0113760 came\n",
      "0.0119013 special\n",
      "0.0121012 tasty\n",
      "0.0123890 pork\n",
      "0.0129693 spot\n",
      "0.0131395 taste\n",
      "0.0133217 wait\n",
      "0.0135803 chicken\n",
      "0.0137659 dont\n",
      "0.0140363 though\n",
      "0.0141115 really\n",
      "0.0158994 sauce\n",
      "0.0161111 friend\n",
      "0.0162352 try\n",
      "0.0164945 well\n",
      "0.0170390 nice\n",
      "0.0173879 small\n",
      "0.0180964 little\n",
      "0.0184870 cheese\n",
      "0.0189710 delicious\n",
      "0.0203766 got\n",
      "0.0205961 ive\n",
      "0.0236512 definitely\n",
      "0.0244247 bit\n",
      "0.0259075 im\n",
      "0.0283282 come\n",
      "0.0451539 pretty\n"
     ]
    }
   ],
   "source": [
    "index = sorted(range(len(classifier.feature_importances_)), key=lambda k: classifier.feature_importances_[k])\n",
    "fi_sort = sorted(classifier.feature_importances_)\n",
    "for i in range(len(features_text)):\n",
    "    print(f'{fi_sort[i]:.7f} {features_text[index[i]]}')"
   ]
  },
  {
   "cell_type": "markdown",
   "metadata": {},
   "source": [
    "# Experiment 3 - both text features & behavior features"
   ]
  },
  {
   "cell_type": "markdown",
   "metadata": {},
   "source": [
    "## Prepare dataset to feed into model"
   ]
  },
  {
   "cell_type": "code",
   "execution_count": 16,
   "metadata": {},
   "outputs": [],
   "source": [
    "x_train, x_test, y_train, y_test = train_test_split(yelpZip_data.drop('label',axis=1), yelpZip_data['label'], test_size=0.25, random_state=42)"
   ]
  },
  {
   "cell_type": "markdown",
   "metadata": {},
   "source": [
    "### 1. Transform corpus to vector"
   ]
  },
  {
   "cell_type": "code",
   "execution_count": 17,
   "metadata": {},
   "outputs": [
    {
     "name": "stdout",
     "output_type": "stream",
     "text": [
      "Complete in 0.0m 20.173870086669922s\n"
     ]
    }
   ],
   "source": [
    "since = time.time()\n",
    "\n",
    "vectorizer = CountVectorizer(max_features=15000)\n",
    "vectorizer.fit(x_train['corpus'])\n",
    "\n",
    "time_elapsed = time.time() - since\n",
    "print(f'Complete in {time_elapsed // 60}m {time_elapsed % 60}s')"
   ]
  },
  {
   "cell_type": "code",
   "execution_count": 18,
   "metadata": {},
   "outputs": [
    {
     "name": "stdout",
     "output_type": "stream",
     "text": [
      "Complete in 0.0m 26.059004306793213s\n"
     ]
    }
   ],
   "source": [
    "since = time.time()\n",
    "\n",
    "x_train_text = vectorizer.transform(x_train['corpus'])\n",
    "x_test_text  = vectorizer.transform(x_test['corpus'])\n",
    "\n",
    "time_elapsed = time.time() - since\n",
    "print(f'Complete in {time_elapsed // 60}m {time_elapsed % 60}s')"
   ]
  },
  {
   "cell_type": "markdown",
   "metadata": {},
   "source": [
    "### 2. feature selection：chi-square"
   ]
  },
  {
   "cell_type": "code",
   "execution_count": 19,
   "metadata": {
    "scrolled": true
   },
   "outputs": [
    {
     "name": "stdout",
     "output_type": "stream",
     "text": [
      "x_train_selected shape: (456448, 150)\n",
      "x_test_selected shape: (152150, 150)\n"
     ]
    }
   ],
   "source": [
    "from sklearn.feature_selection import SelectKBest\n",
    "from sklearn.feature_selection import chi2\n",
    "\n",
    "pick_K = SelectKBest(chi2, k=150)\n",
    "x_train_selected = pick_K.fit_transform(x_train_text, y_train)\n",
    "print(\"x_train_selected shape:\", x_train_selected.shape)\n",
    "\n",
    "x_test_selected = pick_K.transform(x_test_text)  # transform不用Y，因為已經決定好要那些特徵了\n",
    "print(\"x_test_selected shape:\", x_test_selected.shape)"
   ]
  },
  {
   "cell_type": "code",
   "execution_count": 20,
   "metadata": {},
   "outputs": [],
   "source": [
    "features_text = []\n",
    "mask = pick_K.get_support()\n",
    "for bool, feature in zip(mask, vectorizer.get_feature_names()):\n",
    "    if bool:\n",
    "        features_text.append(feature)"
   ]
  },
  {
   "cell_type": "markdown",
   "metadata": {
    "id": "W_oAoPwmqn_E"
   },
   "source": [
    "### 3. Concat selected text features with other behavior features"
   ]
  },
  {
   "cell_type": "code",
   "execution_count": 21,
   "metadata": {
    "id": "q5slIsTtqn_E"
   },
   "outputs": [],
   "source": [
    "features = ['average_review_similarity', 'max_review_similarity', 'review_count_today', 'rating_deviation', 'tokenize_content_len',\n",
    "           'absolute_compound', 'cap_word_count', 'digit_word_count', 'length_deviation', 'review_count', 'extreme_rating_ratio']\n",
    "\n",
    "x_train = sp.sparse.hstack((x_train_selected, x_train[features].values))\n",
    "x_test = sp.sparse.hstack((x_test_selected, x_test[features].values))"
   ]
  },
  {
   "cell_type": "code",
   "execution_count": 22,
   "metadata": {},
   "outputs": [
    {
     "name": "stdout",
     "output_type": "stream",
     "text": [
      "x_train shape: (456448, 161)\n",
      "x_test shape: (152150, 161)\n"
     ]
    }
   ],
   "source": [
    "print(\"x_train shape:\", x_train.shape)\n",
    "print(\"x_test shape:\", x_test.shape)"
   ]
  },
  {
   "cell_type": "code",
   "execution_count": 23,
   "metadata": {},
   "outputs": [
    {
     "name": "stdout",
     "output_type": "stream",
     "text": [
      "161\n",
      "['also', 'around', 'back', 'bacon', 'bar']\n"
     ]
    }
   ],
   "source": [
    "features_all = features_text + features\n",
    "print(len(features_all))\n",
    "print(features_all[:5])"
   ]
  },
  {
   "cell_type": "markdown",
   "metadata": {},
   "source": [
    "## Train and Evaluate"
   ]
  },
  {
   "cell_type": "markdown",
   "metadata": {},
   "source": [
    "### Experiment 3A. Without Oversampling"
   ]
  },
  {
   "cell_type": "code",
   "execution_count": 24,
   "metadata": {},
   "outputs": [
    {
     "name": "stdout",
     "output_type": "stream",
     "text": [
      "Training accuracy: 0.8765445351934941\n",
      "Test accuracy: 0.8712980611238909\n",
      "\n",
      "              precision    recall  f1-score   support\n",
      "\n",
      "       False       0.59      0.09      0.16     20153\n",
      "        True       0.88      0.99      0.93    131997\n",
      "\n",
      "    accuracy                           0.87    152150\n",
      "   macro avg       0.73      0.54      0.55    152150\n",
      "weighted avg       0.84      0.87      0.83    152150\n",
      "\n"
     ]
    },
    {
     "data": {
      "image/png": "[encoded data removed]",
      "text/plain": [
       "<Figure size 432x288 with 2 Axes>"
      ]
     },
     "metadata": {
      "needs_background": "light"
     },
     "output_type": "display_data"
    },
    {
     "name": "stdout",
     "output_type": "stream",
     "text": [
      "Complete in 0.0m 9.910545825958252s\n"
     ]
    }
   ],
   "source": [
    "# Boosting\n",
    "since = time.time()\n",
    "\n",
    "classifier = XGBClassifier(\n",
    "    eta=0.3, \n",
    "    min_child_weight=1,\n",
    "    objective='binary:logistic', \n",
    "    tree_method='gpu_hist', gpu_id=0, \n",
    "    use_label_encoder=False, \n",
    "    eval_metric='logloss')\n",
    "    # use_label_encoder=False: 標記沒有做讀熱編碼\n",
    "classifier.fit(x_train, y_train)\n",
    "score = classifier.score(x_test, y_test)\n",
    "\n",
    "print(f'Training accuracy: {classifier.score(x_train, y_train)}')\n",
    "print(f'Test accuracy: {score}\\n')\n",
    "\n",
    "predictions = classifier.predict(x_test)\n",
    "print(classification_report(y_test, predictions))\n",
    "\n",
    "class_names = ['Fake Review', 'True Review']\n",
    "\n",
    "disp = plot_confusion_matrix(classifier, x_test, y_test, display_labels=class_names, \n",
    "                             cmap=plt.cm.Blues, values_format='.6g')\n",
    "\n",
    "plt.show()\n",
    "\n",
    "time_elapsed = time.time() - since\n",
    "print(f'Complete in {time_elapsed // 60}m {time_elapsed % 60}s')"
   ]
  },
  {
   "cell_type": "code",
   "execution_count": 25,
   "metadata": {},
   "outputs": [
    {
     "name": "stdout",
     "output_type": "stream",
     "text": [
      "0.0017802 inside\n",
      "0.0023122 think\n",
      "0.0023504 green\n",
      "0.0023608 big\n",
      "0.0024610 quite\n",
      "0.0024805 potato\n",
      "0.0025850 one\n",
      "0.0026092 texture\n",
      "0.0026453 thats\n",
      "0.0027743 dish\n",
      "0.0028096 much\n",
      "0.0028202 chocolate\n",
      "0.0028285 get\n",
      "0.0028347 meal\n",
      "0.0028524 like\n",
      "0.0028894 also\n",
      "0.0029096 bite\n",
      "0.0029364 well\n",
      "0.0029441 hot\n",
      "0.0029776 would\n",
      "0.0030039 special\n",
      "0.0030077 meat\n",
      "0.0030126 kind\n",
      "0.0030230 mushroom\n",
      "0.0030284 bean\n",
      "0.0030361 good\n",
      "0.0030379 liked\n",
      "0.0031387 back\n",
      "0.0031460 since\n",
      "0.0031615 space\n",
      "0.0031622 happy\n",
      "0.0032045 chicken\n",
      "0.0032478 french\n",
      "0.0032569 digit_word_count\n",
      "0.0032665 overall\n",
      "0.0032668 slightly\n",
      "0.0032692 still\n",
      "0.0032773 lot\n",
      "0.0032916 large\n",
      "0.0033027 bar\n",
      "0.0033347 cream\n",
      "0.0033424 salad\n",
      "0.0033446 right\n",
      "0.0033459 really\n",
      "0.0033549 dessert\n",
      "0.0033704 wait\n",
      "0.0033897 dont\n",
      "0.0033934 grilled\n",
      "0.0034298 friend\n",
      "0.0034537 beer\n",
      "0.0034976 maybe\n",
      "0.0035190 enough\n",
      "0.0035291 sure\n",
      "0.0035296 soft\n",
      "0.0035437 menu\n",
      "0.0035543 thing\n",
      "0.0035668 huge\n",
      "0.0035752 nice\n",
      "0.0036427 ill\n",
      "0.0036731 around\n",
      "0.0037093 try\n",
      "0.0037135 portion\n",
      "0.0037278 place\n",
      "0.0037336 burger\n",
      "0.0037522 onion\n",
      "0.0037611 soup\n",
      "0.0037657 though\n",
      "0.0037664 two\n",
      "0.0037767 taste\n",
      "0.0037990 table\n",
      "0.0038094 perfect\n",
      "0.0038117 bread\n",
      "0.0038635 roasted\n",
      "0.0038864 tomato\n",
      "0.0038959 tender\n",
      "0.0039291 roll\n",
      "0.0039323 light\n",
      "0.0039347 cap_word_count\n",
      "0.0040003 rice\n",
      "0.0040229 fan\n",
      "0.0040402 there\n",
      "0.0040405 bit\n",
      "0.0040461 come\n",
      "0.0040603 red\n",
      "0.0041351 beef\n",
      "0.0041446 plate\n",
      "0.0042720 duck\n",
      "0.0043176 absolute_compound\n",
      "0.0043336 sandwich\n",
      "0.0043356 next\n",
      "0.0043543 spicy\n",
      "0.0044070 bun\n",
      "0.0044578 fry\n",
      "0.0044722 bowl\n",
      "0.0045996 bacon\n",
      "0.0046513 spot\n",
      "0.0047125 small\n",
      "0.0048022 belly\n",
      "0.0048246 decent\n",
      "0.0048778 salty\n",
      "0.0049091 cheese\n",
      "0.0049105 star\n",
      "0.0049840 option\n",
      "0.0049940 little\n",
      "0.0049967 crispy\n",
      "0.0050713 veggie\n",
      "0.0050736 solid\n",
      "0.0050924 seating\n",
      "0.0052530 sausage\n",
      "0.0053586 white\n",
      "0.0054096 tasty\n",
      "0.0054529 delicious\n",
      "0.0055233 line\n",
      "0.0056333 ive\n",
      "0.0057118 worst\n",
      "0.0057377 length_deviation\n",
      "0.0058878 fried\n",
      "0.0059735 toast\n",
      "0.0059894 corn\n",
      "0.0061087 probably\n",
      "0.0062081 youre\n",
      "0.0066689 rude\n",
      "0.0067470 pancake\n",
      "0.0068321 horrible\n",
      "0.0069032 perfectly\n",
      "0.0069457 broth\n",
      "0.0072318 side\n",
      "0.0072412 noodle\n",
      "0.0073064 sweet\n",
      "0.0073193 creamy\n",
      "0.0074787 flavor\n",
      "0.0074938 definitely\n",
      "0.0075888 manager\n",
      "0.0076148 didnt\n",
      "0.0081963 dumpling\n",
      "0.0082778 ordered\n",
      "0.0083273 waffle\n",
      "0.0083311 came\n",
      "0.0083536 id\n",
      "0.0083883 customer\n",
      "0.0084985 flavorful\n",
      "0.0086011 egg\n",
      "0.0086309 sauce\n",
      "0.0087062 super\n",
      "0.0088224 got\n",
      "0.0092672 wasnt\n",
      "0.0093542 staff\n",
      "0.0098143 brunch\n",
      "0.0099183 im\n",
      "0.0111300 extreme_rating_ratio\n",
      "0.0113837 pork\n",
      "0.0115592 pretty\n",
      "0.0118601 tokenize_content_len\n",
      "0.0134181 ramen\n",
      "0.0142598 rating_deviation\n",
      "0.0148736 owner\n",
      "0.0148884 cute\n",
      "0.0180576 average_review_similarity\n",
      "0.0294230 review_count_today\n",
      "0.0755093 max_review_similarity\n",
      "0.0843293 review_count\n"
     ]
    }
   ],
   "source": [
    "index = sorted(range(len(classifier.feature_importances_)), key=lambda k: classifier.feature_importances_[k])\n",
    "fi_sort = sorted(classifier.feature_importances_)\n",
    "for i in range(len(features_all)):\n",
    "    print(f'{fi_sort[i]:.7f} {features_all[index[i]]}')"
   ]
  },
  {
   "cell_type": "markdown",
   "metadata": {},
   "source": [
    "### Experiment 3B. With Oversampling"
   ]
  },
  {
   "cell_type": "code",
   "execution_count": 26,
   "metadata": {},
   "outputs": [
    {
     "name": "stdout",
     "output_type": "stream",
     "text": [
      "Complete in 3.0m 0.801098108291626s\n"
     ]
    }
   ],
   "source": [
    "since = time.time()\n",
    "\n",
    "ros = SMOTE(random_state=42)\n",
    "x_train_oversampled, y_train_oversampled = ros.fit_resample(x_train, y_train)\n",
    "\n",
    "time_elapsed = time.time() - since\n",
    "print(f'Complete in {time_elapsed // 60}m {time_elapsed % 60}s')"
   ]
  },
  {
   "cell_type": "code",
   "execution_count": 27,
   "metadata": {},
   "outputs": [
    {
     "name": "stdout",
     "output_type": "stream",
     "text": [
      "Training accuracy: 0.5281520188824517\n",
      "Test accuracy: 0.22776207689779823\n",
      "\n",
      "              precision    recall  f1-score   support\n",
      "\n",
      "       False       0.14      0.90      0.24     20153\n",
      "        True       0.89      0.13      0.22    131997\n",
      "\n",
      "    accuracy                           0.23    152150\n",
      "   macro avg       0.51      0.51      0.23    152150\n",
      "weighted avg       0.79      0.23      0.22    152150\n",
      "\n"
     ]
    },
    {
     "data": {
      "image/png": "[encoded data removed]",
      "text/plain": [
       "<Figure size 432x288 with 2 Axes>"
      ]
     },
     "metadata": {
      "needs_background": "light"
     },
     "output_type": "display_data"
    },
    {
     "name": "stdout",
     "output_type": "stream",
     "text": [
      "Complete in 0.0m 11.858301639556885s\n"
     ]
    }
   ],
   "source": [
    "# Boosting\n",
    "since = time.time()\n",
    "\n",
    "classifier = XGBClassifier(\n",
    "    eta=0.3, \n",
    "    min_child_weight=1,\n",
    "    objective='binary:logistic', \n",
    "    tree_method='gpu_hist', gpu_id=0, \n",
    "    use_label_encoder=False, \n",
    "    eval_metric='logloss')\n",
    "    # use_label_encoder=False: 標記沒有做讀熱編碼\n",
    "classifier.fit(x_train_oversampled, y_train_oversampled)\n",
    "score = classifier.score(x_test, y_test)\n",
    "\n",
    "print(f'Training accuracy: {classifier.score(x_train_oversampled, y_train_oversampled)}')\n",
    "print(f'Test accuracy: {score}\\n')\n",
    "\n",
    "predictions = classifier.predict(x_test)\n",
    "print(classification_report(y_test, predictions))\n",
    "\n",
    "class_names = ['Fake Review', 'True Review']\n",
    "\n",
    "disp = plot_confusion_matrix(classifier, x_test, y_test, display_labels=class_names, \n",
    "                             cmap=plt.cm.Blues, values_format='.6g')\n",
    "\n",
    "plt.show()\n",
    "\n",
    "time_elapsed = time.time() - since\n",
    "print(f'Complete in {time_elapsed // 60}m {time_elapsed % 60}s')"
   ]
  },
  {
   "cell_type": "code",
   "execution_count": 28,
   "metadata": {},
   "outputs": [
    {
     "name": "stdout",
     "output_type": "stream",
     "text": [
      "0.0000000 around\n",
      "0.0000000 bacon\n",
      "0.0000000 bar\n",
      "0.0000000 bean\n",
      "0.0000000 beef\n",
      "0.0000000 belly\n",
      "0.0000000 big\n",
      "0.0000000 bit\n",
      "0.0000000 bite\n",
      "0.0000000 bowl\n",
      "0.0000000 bread\n",
      "0.0000000 broth\n",
      "0.0000000 brunch\n",
      "0.0000000 burger\n",
      "0.0000000 cheese\n",
      "0.0000000 chocolate\n",
      "0.0000000 corn\n",
      "0.0000000 cream\n",
      "0.0000000 creamy\n",
      "0.0000000 crispy\n",
      "0.0000000 customer\n",
      "0.0000000 duck\n",
      "0.0000000 dumpling\n",
      "0.0000000 egg\n",
      "0.0000000 enough\n",
      "0.0000000 fan\n",
      "0.0000000 flavorful\n",
      "0.0000000 french\n",
      "0.0000000 fried\n",
      "0.0000000 friend\n",
      "0.0000000 fry\n",
      "0.0000000 green\n",
      "0.0000000 grilled\n",
      "0.0000000 happy\n",
      "0.0000000 id\n",
      "0.0000000 ill\n",
      "0.0000000 inside\n",
      "0.0000000 kind\n",
      "0.0000000 large\n",
      "0.0000000 light\n",
      "0.0000000 liked\n",
      "0.0000000 line\n",
      "0.0000000 little\n",
      "0.0000000 lot\n",
      "0.0000000 meal\n",
      "0.0000000 meat\n",
      "0.0000000 mushroom\n",
      "0.0000000 onion\n",
      "0.0000000 option\n",
      "0.0000000 perfect\n",
      "0.0000000 perfectly\n",
      "0.0000000 plate\n",
      "0.0000000 potato\n",
      "0.0000000 ramen\n",
      "0.0000000 red\n",
      "0.0000000 roasted\n",
      "0.0000000 roll\n",
      "0.0000000 salad\n",
      "0.0000000 salty\n",
      "0.0000000 sandwich\n",
      "0.0000000 sausage\n",
      "0.0000000 seating\n",
      "0.0000000 side\n",
      "0.0000000 since\n",
      "0.0000000 slightly\n",
      "0.0000000 soft\n",
      "0.0000000 solid\n",
      "0.0000000 soup\n",
      "0.0000000 space\n",
      "0.0000000 special\n",
      "0.0000000 spicy\n",
      "0.0000000 super\n",
      "0.0000000 sweet\n",
      "0.0000000 tender\n",
      "0.0000000 texture\n",
      "0.0000000 thats\n",
      "0.0000000 there\n",
      "0.0000000 thing\n",
      "0.0000000 toast\n",
      "0.0000000 tomato\n",
      "0.0000000 two\n",
      "0.0000000 veggie\n",
      "0.0000000 waffle\n",
      "0.0000000 wasnt\n",
      "0.0000000 well\n",
      "0.0000000 white\n",
      "0.0000000 youre\n",
      "0.0000000 come\n",
      "0.0000000 menu\n",
      "0.0000000 dish\n",
      "0.0000000 wait\n",
      "0.0000000 taste\n",
      "0.0000000 dessert\n",
      "0.0000000 maybe\n",
      "0.0000000 huge\n",
      "0.0000000 flavor\n",
      "0.0000000 beer\n",
      "0.0000000 much\n",
      "0.0000000 star\n",
      "0.0000000 probably\n",
      "0.0000000 spot\n",
      "0.0000000 pork\n",
      "0.0000000 try\n",
      "0.0000000 hot\n",
      "0.0000000 manager\n",
      "0.0000000 sure\n",
      "0.0000000 small\n",
      "0.0000000 quite\n",
      "0.0000000 didnt\n",
      "0.0000000 still\n",
      "0.0000000 owner\n",
      "0.0000000 right\n",
      "0.0000000 tasty\n",
      "0.0000001 bun\n",
      "0.0000001 overall\n",
      "0.0000001 noodle\n",
      "0.0000002 decent\n",
      "0.0000022 pretty\n",
      "0.0000023 horrible\n",
      "0.0000025 dont\n",
      "0.0000030 portion\n",
      "0.0000030 im\n",
      "0.0000064 table\n",
      "0.0000143 rice\n",
      "0.0000237 though\n",
      "0.0000377 rude\n",
      "0.0000445 came\n",
      "0.0001109 nice\n",
      "0.0001254 also\n",
      "0.0001336 worst\n",
      "0.0001696 ive\n",
      "0.0002352 think\n",
      "0.0002861 cute\n",
      "0.0013944 pancake\n",
      "0.0026195 chicken\n",
      "0.0031937 got\n",
      "0.0061846 staff\n",
      "0.0067231 like\n",
      "0.0071632 get\n",
      "0.0094761 sauce\n",
      "0.0111456 really\n",
      "0.0117268 definitely\n",
      "0.0126729 review_count\n",
      "0.0165582 review_count_today\n",
      "0.0175048 digit_word_count\n",
      "0.0193250 cap_word_count\n",
      "0.0200785 good\n",
      "0.0202065 delicious\n",
      "0.0203922 average_review_similarity\n",
      "0.0205969 back\n",
      "0.0228583 ordered\n",
      "0.0291005 one\n",
      "0.0389694 place\n",
      "0.0475776 tokenize_content_len\n",
      "0.0493332 rating_deviation\n",
      "0.0512633 max_review_similarity\n",
      "0.0687028 extreme_rating_ratio\n",
      "0.0708287 absolute_compound\n",
      "0.0857384 would\n",
      "0.0998313 length_deviation\n",
      "0.2276334 next\n"
     ]
    }
   ],
   "source": [
    "index = sorted(range(len(classifier.feature_importances_)), key=lambda k: classifier.feature_importances_[k])\n",
    "fi_sort = sorted(classifier.feature_importances_)\n",
    "for i in range(len(features_all)):\n",
    "    print(f'{fi_sort[i]:.7f} {features_all[index[i]]}')"
   ]
  }
 ],
 "metadata": {
  "kernelspec": {
   "display_name": "Python 3",
   "language": "python",
   "name": "python3"
  },
  "language_info": {
   "codemirror_mode": {
    "name": "ipython",
    "version": 3
   },
   "file_extension": ".py",
   "mimetype": "text/x-python",
   "name": "python",
   "nbconvert_exporter": "python",
   "pygments_lexer": "ipython3",
   "version": "3.7.6"
  }
 },
 "nbformat": 4,
 "nbformat_minor": 4
}
