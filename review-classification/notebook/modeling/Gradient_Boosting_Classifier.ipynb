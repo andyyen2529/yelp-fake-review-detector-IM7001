{
 "cells": [
  {
   "cell_type": "markdown",
   "metadata": {},
   "source": [
    "## 備註：目前沒有對XGBoost進行調參。"
   ]
  },
  {
   "cell_type": "code",
   "execution_count": 1,
   "metadata": {},
   "outputs": [],
   "source": [
    "from sklearn.feature_extraction.text import CountVectorizer\n",
    "from sklearn.model_selection import train_test_split\n",
    "from sklearn.metrics import classification_report\n",
    "from sklearn.metrics import plot_confusion_matrix\n",
    "from imblearn.over_sampling import SMOTE\n",
    "from collections import Counter\n",
    "from sklearn.ensemble import GradientBoostingClassifier\n",
    "\n",
    "import itertools\n",
    "import pandas as pd\n",
    "import numpy as np\n",
    "import scipy as sp\n",
    "import matplotlib.pyplot as plt\n",
    "import time\n",
    "\n",
    "np.set_printoptions(suppress=True)"
   ]
  },
  {
   "cell_type": "code",
   "execution_count": 2,
   "metadata": {
    "scrolled": false
   },
   "outputs": [
    {
     "data": {
      "text/html": [
       "<div>\n",
       "<style scoped>\n",
       "    .dataframe tbody tr th:only-of-type {\n",
       "        vertical-align: middle;\n",
       "    }\n",
       "\n",
       "    .dataframe tbody tr th {\n",
       "        vertical-align: top;\n",
       "    }\n",
       "\n",
       "    .dataframe thead th {\n",
       "        text-align: right;\n",
       "    }\n",
       "</style>\n",
       "<table border=\"1\" class=\"dataframe\">\n",
       "  <thead>\n",
       "    <tr style=\"text-align: right;\">\n",
       "      <th></th>\n",
       "      <th>userId</th>\n",
       "      <th>prodId</th>\n",
       "      <th>date</th>\n",
       "      <th>content</th>\n",
       "      <th>content_len</th>\n",
       "      <th>label</th>\n",
       "      <th>rating</th>\n",
       "      <th>average_review_similarity</th>\n",
       "      <th>max_review_similarity</th>\n",
       "      <th>review_count_today</th>\n",
       "      <th>...</th>\n",
       "      <th>neg</th>\n",
       "      <th>neu</th>\n",
       "      <th>pos</th>\n",
       "      <th>compound</th>\n",
       "      <th>cap_word_count</th>\n",
       "      <th>digit_word_count</th>\n",
       "      <th>absolute_compound</th>\n",
       "      <th>length_deviation</th>\n",
       "      <th>review_count</th>\n",
       "      <th>extreme_rating_ratio</th>\n",
       "    </tr>\n",
       "  </thead>\n",
       "  <tbody>\n",
       "    <tr>\n",
       "      <th>0</th>\n",
       "      <td>5044</td>\n",
       "      <td>0</td>\n",
       "      <td>2014-11-16</td>\n",
       "      <td>Drinks were bad, the hot chocolate was watered...</td>\n",
       "      <td>36</td>\n",
       "      <td>-1</td>\n",
       "      <td>1.0</td>\n",
       "      <td>0.000000</td>\n",
       "      <td>0.0000</td>\n",
       "      <td>1</td>\n",
       "      <td>...</td>\n",
       "      <td>0.513</td>\n",
       "      <td>0.487</td>\n",
       "      <td>0.000</td>\n",
       "      <td>-0.9287</td>\n",
       "      <td>0</td>\n",
       "      <td>0</td>\n",
       "      <td>0.9287</td>\n",
       "      <td>0.527778</td>\n",
       "      <td>1</td>\n",
       "      <td>0.0</td>\n",
       "    </tr>\n",
       "    <tr>\n",
       "      <th>1</th>\n",
       "      <td>5045</td>\n",
       "      <td>0</td>\n",
       "      <td>2014-09-08</td>\n",
       "      <td>This was the worst experience I've ever had a ...</td>\n",
       "      <td>248</td>\n",
       "      <td>-1</td>\n",
       "      <td>1.0</td>\n",
       "      <td>0.000000</td>\n",
       "      <td>0.0000</td>\n",
       "      <td>1</td>\n",
       "      <td>...</td>\n",
       "      <td>0.195</td>\n",
       "      <td>0.584</td>\n",
       "      <td>0.221</td>\n",
       "      <td>0.6128</td>\n",
       "      <td>0</td>\n",
       "      <td>2</td>\n",
       "      <td>0.6128</td>\n",
       "      <td>0.508065</td>\n",
       "      <td>1</td>\n",
       "      <td>0.0</td>\n",
       "    </tr>\n",
       "    <tr>\n",
       "      <th>2</th>\n",
       "      <td>5046</td>\n",
       "      <td>0</td>\n",
       "      <td>2013-10-06</td>\n",
       "      <td>This is located on the site of the old Spruce ...</td>\n",
       "      <td>50</td>\n",
       "      <td>-1</td>\n",
       "      <td>3.0</td>\n",
       "      <td>0.162733</td>\n",
       "      <td>0.3298</td>\n",
       "      <td>1</td>\n",
       "      <td>...</td>\n",
       "      <td>0.000</td>\n",
       "      <td>0.610</td>\n",
       "      <td>0.390</td>\n",
       "      <td>0.9153</td>\n",
       "      <td>1</td>\n",
       "      <td>0</td>\n",
       "      <td>0.9153</td>\n",
       "      <td>0.520000</td>\n",
       "      <td>4</td>\n",
       "      <td>0.0</td>\n",
       "    </tr>\n",
       "    <tr>\n",
       "      <th>3</th>\n",
       "      <td>5047</td>\n",
       "      <td>0</td>\n",
       "      <td>2014-11-30</td>\n",
       "      <td>I enjoyed coffee and breakfast twice at Toast ...</td>\n",
       "      <td>233</td>\n",
       "      <td>-1</td>\n",
       "      <td>5.0</td>\n",
       "      <td>0.000000</td>\n",
       "      <td>0.0000</td>\n",
       "      <td>1</td>\n",
       "      <td>...</td>\n",
       "      <td>0.016</td>\n",
       "      <td>0.614</td>\n",
       "      <td>0.370</td>\n",
       "      <td>0.9954</td>\n",
       "      <td>1</td>\n",
       "      <td>0</td>\n",
       "      <td>0.9954</td>\n",
       "      <td>0.446352</td>\n",
       "      <td>1</td>\n",
       "      <td>0.0</td>\n",
       "    </tr>\n",
       "    <tr>\n",
       "      <th>4</th>\n",
       "      <td>5048</td>\n",
       "      <td>0</td>\n",
       "      <td>2014-08-28</td>\n",
       "      <td>I love Toast! The food choices are fantastic -...</td>\n",
       "      <td>152</td>\n",
       "      <td>-1</td>\n",
       "      <td>5.0</td>\n",
       "      <td>0.000000</td>\n",
       "      <td>0.0000</td>\n",
       "      <td>1</td>\n",
       "      <td>...</td>\n",
       "      <td>0.000</td>\n",
       "      <td>0.518</td>\n",
       "      <td>0.482</td>\n",
       "      <td>0.9945</td>\n",
       "      <td>0</td>\n",
       "      <td>0</td>\n",
       "      <td>0.9945</td>\n",
       "      <td>0.480263</td>\n",
       "      <td>1</td>\n",
       "      <td>0.0</td>\n",
       "    </tr>\n",
       "  </tbody>\n",
       "</table>\n",
       "<p>5 rows × 24 columns</p>\n",
       "</div>"
      ],
      "text/plain": [
       "   userId  prodId        date  \\\n",
       "0    5044       0  2014-11-16   \n",
       "1    5045       0  2014-09-08   \n",
       "2    5046       0  2013-10-06   \n",
       "3    5047       0  2014-11-30   \n",
       "4    5048       0  2014-08-28   \n",
       "\n",
       "                                             content  content_len  label  \\\n",
       "0  Drinks were bad, the hot chocolate was watered...           36     -1   \n",
       "1  This was the worst experience I've ever had a ...          248     -1   \n",
       "2  This is located on the site of the old Spruce ...           50     -1   \n",
       "3  I enjoyed coffee and breakfast twice at Toast ...          233     -1   \n",
       "4  I love Toast! The food choices are fantastic -...          152     -1   \n",
       "\n",
       "   rating  average_review_similarity  max_review_similarity  \\\n",
       "0     1.0                   0.000000                 0.0000   \n",
       "1     1.0                   0.000000                 0.0000   \n",
       "2     3.0                   0.162733                 0.3298   \n",
       "3     5.0                   0.000000                 0.0000   \n",
       "4     5.0                   0.000000                 0.0000   \n",
       "\n",
       "   review_count_today  ...    neg    neu    pos compound  cap_word_count  \\\n",
       "0                   1  ...  0.513  0.487  0.000  -0.9287               0   \n",
       "1                   1  ...  0.195  0.584  0.221   0.6128               0   \n",
       "2                   1  ...  0.000  0.610  0.390   0.9153               1   \n",
       "3                   1  ...  0.016  0.614  0.370   0.9954               1   \n",
       "4                   1  ...  0.000  0.518  0.482   0.9945               0   \n",
       "\n",
       "   digit_word_count  absolute_compound  length_deviation  review_count  \\\n",
       "0                 0             0.9287          0.527778             1   \n",
       "1                 2             0.6128          0.508065             1   \n",
       "2                 0             0.9153          0.520000             4   \n",
       "3                 0             0.9954          0.446352             1   \n",
       "4                 0             0.9945          0.480263             1   \n",
       "\n",
       "   extreme_rating_ratio  \n",
       "0                   0.0  \n",
       "1                   0.0  \n",
       "2                   0.0  \n",
       "3                   0.0  \n",
       "4                   0.0  \n",
       "\n",
       "[5 rows x 24 columns]"
      ]
     },
     "execution_count": 2,
     "metadata": {},
     "output_type": "execute_result"
    }
   ],
   "source": [
    "yelpZip_preprocessed = pd.read_pickle('data/processed/yelpZip_preprocessed.pkl')\n",
    "\n",
    "yelpZip_data = yelpZip_preprocessed.copy()\n",
    "yelpZip_data.head()"
   ]
  },
  {
   "cell_type": "markdown",
   "metadata": {},
   "source": [
    "# Experiment 1  - without text features"
   ]
  },
  {
   "cell_type": "markdown",
   "metadata": {},
   "source": [
    "## Prepare dataset to feed into model"
   ]
  },
  {
   "cell_type": "code",
   "execution_count": 3,
   "metadata": {},
   "outputs": [],
   "source": [
    "yelpZip_data['label'].replace(1, True, inplace=True)\n",
    "yelpZip_data['label'].replace(-1, False, inplace=True)"
   ]
  },
  {
   "cell_type": "code",
   "execution_count": 4,
   "metadata": {},
   "outputs": [],
   "source": [
    "x_train, x_test, y_train, y_test = train_test_split(yelpZip_data.drop('label',axis=1), yelpZip_data['label'], test_size=0.25, random_state=42)"
   ]
  },
  {
   "cell_type": "code",
   "execution_count": 5,
   "metadata": {},
   "outputs": [],
   "source": [
    "features = ['average_review_similarity', 'max_review_similarity', 'review_count_today', 'rating_deviation', 'tokenize_content_len',\n",
    "           'absolute_compound', 'cap_word_count', 'digit_word_count', 'length_deviation', 'review_count', 'extreme_rating_ratio']\n",
    "\n",
    "x_train = x_train[features]\n",
    "x_test = x_test[features]"
   ]
  },
  {
   "cell_type": "markdown",
   "metadata": {},
   "source": [
    "## Train and Evaluate"
   ]
  },
  {
   "cell_type": "markdown",
   "metadata": {},
   "source": [
    "### Experiment 1A. Without Oversampling"
   ]
  },
  {
   "cell_type": "code",
   "execution_count": 6,
   "metadata": {},
   "outputs": [
    {
     "name": "stdout",
     "output_type": "stream",
     "text": [
      "Training accuracy: 0.8706928280987101\n",
      "Test accuracy: 0.8693986197831087\n",
      "\n",
      "              precision    recall  f1-score   support\n",
      "\n",
      "       False       0.59      0.04      0.08     20153\n",
      "        True       0.87      1.00      0.93    131997\n",
      "\n",
      "    accuracy                           0.87    152150\n",
      "   macro avg       0.73      0.52      0.51    152150\n",
      "weighted avg       0.84      0.87      0.82    152150\n",
      "\n"
     ]
    },
    {
     "data": {
      "image/png": "[encoded data removed]",
      "text/plain": [
       "<Figure size 432x288 with 2 Axes>"
      ]
     },
     "metadata": {
      "needs_background": "light"
     },
     "output_type": "display_data"
    },
    {
     "name": "stdout",
     "output_type": "stream",
     "text": [
      "Complete in 1.0m 3.56196665763855s\n"
     ]
    }
   ],
   "source": [
    "# Boosting\n",
    "since = time.time()\n",
    "\n",
    "classifier = GradientBoostingClassifier(learning_rate=0.1, max_depth=5, max_features=0.5, random_state=42)\n",
    "classifier.fit(x_train, y_train)\n",
    "score = classifier.score(x_test, y_test)\n",
    "\n",
    "print(f'Training accuracy: {classifier.score(x_train, y_train)}')\n",
    "print(f'Test accuracy: {score}\\n')\n",
    "\n",
    "predictions = classifier.predict(x_test)\n",
    "print(classification_report(y_test, predictions))\n",
    "\n",
    "class_names = ['Fake Review', 'True Review']\n",
    "\n",
    "disp = plot_confusion_matrix(classifier, x_test, y_test, display_labels=class_names, \n",
    "                             cmap=plt.cm.Blues, values_format='.6g')\n",
    "\n",
    "plt.show()\n",
    "\n",
    "time_elapsed = time.time() - since\n",
    "print(f'Complete in {time_elapsed // 60}m {time_elapsed % 60}s')"
   ]
  },
  {
   "cell_type": "code",
   "execution_count": 7,
   "metadata": {},
   "outputs": [
    {
     "name": "stdout",
     "output_type": "stream",
     "text": [
      "feature importances:\n",
      "0.2772629 average_review_similarity\n",
      "0.2652798 max_review_similarity\n",
      "0.1656700 review_count\n",
      "0.1075021 rating_deviation\n",
      "0.0597620 review_count_today\n",
      "0.0505507 tokenize_content_len\n",
      "0.0372743 extreme_rating_ratio\n",
      "0.0197718 length_deviation\n",
      "0.0104934 absolute_compound\n",
      "0.0044261 cap_word_count\n",
      "0.0020069 digit_word_count\n"
     ]
    }
   ],
   "source": [
    "print('feature importances:')\n",
    "index = sorted(range(len(features)), key=lambda k: classifier.feature_importances_[k], reverse=True)\n",
    "fi_sort = sorted(classifier.feature_importances_, reverse=True)\n",
    "for i in range(len(features)):\n",
    "    print(f'{fi_sort[i]:.7f} {features[index[i]]}')"
   ]
  },
  {
   "cell_type": "markdown",
   "metadata": {},
   "source": [
    "### Experiment 1B. With Oversampling"
   ]
  },
  {
   "cell_type": "code",
   "execution_count": 8,
   "metadata": {},
   "outputs": [
    {
     "name": "stdout",
     "output_type": "stream",
     "text": [
      "Complete in 0.0m 2.171299695968628s\n"
     ]
    }
   ],
   "source": [
    "since = time.time()\n",
    "\n",
    "ros = SMOTE(random_state=42)\n",
    "x_train_oversampled, y_train_oversampled = ros.fit_resample(x_train, y_train)\n",
    "\n",
    "time_elapsed = time.time() - since\n",
    "print(f'Complete in {time_elapsed // 60}m {time_elapsed % 60}s')"
   ]
  },
  {
   "cell_type": "code",
   "execution_count": 9,
   "metadata": {},
   "outputs": [
    {
     "name": "stdout",
     "output_type": "stream",
     "text": [
      "Training accuracy: 0.7956694056319185\n",
      "Test accuracy: 0.7257246138678936\n",
      "\n",
      "              precision    recall  f1-score   support\n",
      "\n",
      "       False       0.29      0.76      0.42     20153\n",
      "        True       0.95      0.72      0.82    131997\n",
      "\n",
      "    accuracy                           0.73    152150\n",
      "   macro avg       0.62      0.74      0.62    152150\n",
      "weighted avg       0.86      0.73      0.77    152150\n",
      "\n"
     ]
    },
    {
     "data": {
      "image/png": "[encoded data removed]",
      "text/plain": [
       "<Figure size 432x288 with 2 Axes>"
      ]
     },
     "metadata": {
      "needs_background": "light"
     },
     "output_type": "display_data"
    },
    {
     "name": "stdout",
     "output_type": "stream",
     "text": [
      "Complete in 2.0m 9.473586559295654s\n"
     ]
    }
   ],
   "source": [
    "# Boosting\n",
    "since = time.time()\n",
    "\n",
    "classifier = GradientBoostingClassifier(learning_rate=0.1, max_depth=5, max_features=0.5, random_state=42)\n",
    "classifier.fit(x_train_oversampled, y_train_oversampled)\n",
    "score = classifier.score(x_test, y_test)\n",
    "\n",
    "print(f'Training accuracy: {classifier.score(x_train_oversampled, y_train_oversampled)}')\n",
    "print(f'Test accuracy: {score}\\n')\n",
    "\n",
    "predictions = classifier.predict(x_test)\n",
    "print(classification_report(y_test, predictions))\n",
    "\n",
    "class_names = ['Fake Review', 'True Review']\n",
    "\n",
    "disp = plot_confusion_matrix(classifier, x_test, y_test, display_labels=class_names, \n",
    "                             cmap=plt.cm.Blues, values_format='.6g')\n",
    "\n",
    "plt.show()\n",
    "\n",
    "time_elapsed = time.time() - since\n",
    "print(f'Complete in {time_elapsed // 60}m {time_elapsed % 60}s')"
   ]
  },
  {
   "cell_type": "code",
   "execution_count": 10,
   "metadata": {},
   "outputs": [
    {
     "name": "stdout",
     "output_type": "stream",
     "text": [
      "feature importances:\n",
      "0.3583736 review_count\n",
      "0.2218131 average_review_similarity\n",
      "0.1243447 extreme_rating_ratio\n",
      "0.0837943 max_review_similarity\n",
      "0.0464148 length_deviation\n",
      "0.0415630 review_count_today\n",
      "0.0407951 tokenize_content_len\n",
      "0.0376391 rating_deviation\n",
      "0.0213908 absolute_compound\n",
      "0.0119747 cap_word_count\n",
      "0.0118969 digit_word_count\n"
     ]
    }
   ],
   "source": [
    "print('feature importances:')\n",
    "index = sorted(range(len(features)), key=lambda k: classifier.feature_importances_[k], reverse=True)\n",
    "fi_sort = sorted(classifier.feature_importances_, reverse=True)\n",
    "for i in range(len(features)):\n",
    "    print(f'{fi_sort[i]:.7f} {features[index[i]]}')"
   ]
  },
  {
   "cell_type": "markdown",
   "metadata": {},
   "source": [
    "# Experiment 2 - only text features"
   ]
  },
  {
   "cell_type": "markdown",
   "metadata": {},
   "source": [
    "## Prepare dataset to feed into model"
   ]
  },
  {
   "cell_type": "code",
   "execution_count": 11,
   "metadata": {},
   "outputs": [],
   "source": [
    "x_train, x_test, y_train, y_test = train_test_split(yelpZip_data.drop('label',axis=1), yelpZip_data['label'], test_size=0.25, random_state=42)"
   ]
  },
  {
   "cell_type": "markdown",
   "metadata": {},
   "source": [
    "### 1. Transform corpus to vector"
   ]
  },
  {
   "cell_type": "code",
   "execution_count": 12,
   "metadata": {},
   "outputs": [
    {
     "name": "stdout",
     "output_type": "stream",
     "text": [
      "Complete in 0.0m 20.010318279266357s\n"
     ]
    }
   ],
   "source": [
    "since = time.time()\n",
    "\n",
    "vectorizer = CountVectorizer(max_features=15000)\n",
    "vectorizer.fit(x_train['corpus'])\n",
    "\n",
    "time_elapsed = time.time() - since\n",
    "print(f'Complete in {time_elapsed // 60}m {time_elapsed % 60}s')"
   ]
  },
  {
   "cell_type": "code",
   "execution_count": 13,
   "metadata": {},
   "outputs": [
    {
     "name": "stdout",
     "output_type": "stream",
     "text": [
      "Complete in 0.0m 26.395851135253906s\n"
     ]
    }
   ],
   "source": [
    "since = time.time()\n",
    "\n",
    "x_train = vectorizer.transform(x_train['corpus'])\n",
    "x_test  = vectorizer.transform(x_test['corpus'])\n",
    "\n",
    "time_elapsed = time.time() - since\n",
    "print(f'Complete in {time_elapsed // 60}m {time_elapsed % 60}s')"
   ]
  },
  {
   "cell_type": "markdown",
   "metadata": {},
   "source": [
    "### 2. feature selection：chi-square"
   ]
  },
  {
   "cell_type": "code",
   "execution_count": 14,
   "metadata": {
    "scrolled": true
   },
   "outputs": [
    {
     "name": "stdout",
     "output_type": "stream",
     "text": [
      "x_train_selected shape: (456448, 150)\n",
      "x_test_selected shape: (152150, 150)\n"
     ]
    }
   ],
   "source": [
    "from sklearn.feature_selection import SelectKBest\n",
    "from sklearn.feature_selection import chi2\n",
    "\n",
    "pick_K = SelectKBest(chi2, k=150)\n",
    "x_train_selected = pick_K.fit_transform(x_train, y_train)\n",
    "print(\"x_train_selected shape:\", x_train_selected.shape)\n",
    "\n",
    "x_test_selected = pick_K.transform(x_test)  # transform不用Y，因為已經決定好要那些特徵了\n",
    "print(\"x_test_selected shape:\", x_test_selected.shape)"
   ]
  },
  {
   "cell_type": "code",
   "execution_count": 15,
   "metadata": {},
   "outputs": [],
   "source": [
    "features_text = []\n",
    "mask = pick_K.get_support()\n",
    "for bool, feature in zip(mask, vectorizer.get_feature_names()):\n",
    "    if bool:\n",
    "        features_text.append(feature)"
   ]
  },
  {
   "cell_type": "markdown",
   "metadata": {},
   "source": [
    "## Train and Evaluate"
   ]
  },
  {
   "cell_type": "markdown",
   "metadata": {},
   "source": [
    "### Experiment 2A. Without Oversampling"
   ]
  },
  {
   "cell_type": "code",
   "execution_count": 16,
   "metadata": {},
   "outputs": [
    {
     "name": "stdout",
     "output_type": "stream",
     "text": [
      "Training accuracy: 0.8683201591418956\n",
      "Test accuracy: 0.8676897798225436\n",
      "\n",
      "              precision    recall  f1-score   support\n",
      "\n",
      "       False       0.56      0.00      0.01     20153\n",
      "        True       0.87      1.00      0.93    131997\n",
      "\n",
      "    accuracy                           0.87    152150\n",
      "   macro avg       0.71      0.50      0.47    152150\n",
      "weighted avg       0.83      0.87      0.81    152150\n",
      "\n"
     ]
    },
    {
     "data": {
      "image/png": "[encoded data removed]",
      "text/plain": [
       "<Figure size 432x288 with 2 Axes>"
      ]
     },
     "metadata": {
      "needs_background": "light"
     },
     "output_type": "display_data"
    },
    {
     "name": "stdout",
     "output_type": "stream",
     "text": [
      "Complete in 1.0m 15.448861122131348s\n"
     ]
    }
   ],
   "source": [
    "# Boosting\n",
    "since = time.time()\n",
    "\n",
    "classifier = GradientBoostingClassifier(learning_rate=0.1, max_depth=5, max_features=0.5, random_state=42)\n",
    "classifier.fit(x_train_selected, y_train)\n",
    "score = classifier.score(x_test_selected, y_test)\n",
    "\n",
    "print(f'Training accuracy: {classifier.score(x_train_selected, y_train)}')\n",
    "print(f'Test accuracy: {score}\\n')\n",
    "\n",
    "predictions = classifier.predict(x_test_selected)\n",
    "print(classification_report(y_test, predictions))\n",
    "\n",
    "class_names = ['Fake Review', 'True Review']\n",
    "\n",
    "disp = plot_confusion_matrix(classifier, x_test_selected, y_test, display_labels=class_names, \n",
    "                             cmap=plt.cm.Blues, values_format='.6g')\n",
    "\n",
    "plt.show()\n",
    "\n",
    "time_elapsed = time.time() - since\n",
    "print(f'Complete in {time_elapsed // 60}m {time_elapsed % 60}s')"
   ]
  },
  {
   "cell_type": "code",
   "execution_count": 17,
   "metadata": {},
   "outputs": [
    {
     "name": "stdout",
     "output_type": "stream",
     "text": [
      "feature importances:\n",
      "0.0622744 pretty\n",
      "0.0396148 owner\n",
      "0.0368350 manager\n",
      "0.0348879 sauce\n",
      "0.0318742 good\n",
      "0.0311791 pork\n",
      "0.0299907 customer\n",
      "0.0279285 rude\n",
      "0.0270998 im\n",
      "0.0237379 also\n",
      "0.0229854 really\n",
      "0.0209338 brunch\n",
      "0.0203812 delicious\n",
      "0.0203182 staff\n",
      "0.0188843 little\n",
      "0.0188798 bit\n",
      "0.0186533 worst\n",
      "0.0183038 got\n",
      "0.0171260 came\n",
      "0.0167588 ive\n",
      "0.0162933 flavor\n",
      "0.0151332 come\n",
      "0.0148766 definitely\n",
      "0.0146211 horrible\n",
      "0.0130884 tasty\n",
      "0.0127620 egg\n",
      "0.0125481 id\n",
      "0.0121420 cheese\n",
      "0.0120782 side\n",
      "0.0117620 youre\n",
      "0.0114730 sweet\n",
      "0.0112610 though\n",
      "0.0110351 noodle\n",
      "0.0109414 star\n",
      "0.0109211 spot\n",
      "0.0101552 small\n",
      "0.0100021 fried\n",
      "0.0090879 get\n",
      "0.0085992 super\n",
      "0.0074713 probably\n",
      "0.0074239 cute\n",
      "0.0070475 spicy\n",
      "0.0070339 wasnt\n",
      "0.0068461 solid\n",
      "0.0068216 like\n",
      "0.0062567 seating\n",
      "0.0062410 ordered\n",
      "0.0061171 fry\n",
      "0.0058796 crispy\n",
      "0.0057592 beer\n",
      "0.0056792 there\n",
      "0.0056108 didnt\n",
      "0.0053149 sandwich\n",
      "0.0051897 dumpling\n",
      "0.0049382 decent\n",
      "0.0044009 flavorful\n",
      "0.0038808 space\n",
      "0.0037418 option\n",
      "0.0036376 ill\n",
      "0.0035418 line\n",
      "0.0035228 ramen\n",
      "0.0034152 perfect\n",
      "0.0033727 think\n",
      "0.0031480 meat\n",
      "0.0030958 still\n",
      "0.0029840 perfectly\n",
      "0.0027845 dish\n",
      "0.0027433 back\n",
      "0.0026461 white\n",
      "0.0025445 huge\n",
      "0.0024787 broth\n",
      "0.0022610 rice\n",
      "0.0022457 pancake\n",
      "0.0022128 beef\n",
      "0.0021365 happy\n",
      "0.0021163 wait\n",
      "0.0020880 table\n",
      "0.0019808 corn\n",
      "0.0019587 place\n",
      "0.0019367 next\n",
      "0.0019187 sausage\n",
      "0.0018329 large\n",
      "0.0018178 bar\n",
      "0.0018013 mushroom\n",
      "0.0016650 creamy\n",
      "0.0016243 menu\n",
      "0.0016096 dont\n",
      "0.0016078 toast\n",
      "0.0016008 would\n",
      "0.0015836 veggie\n",
      "0.0015116 bread\n",
      "0.0014819 waffle\n",
      "0.0014555 light\n",
      "0.0014503 duck\n",
      "0.0014389 one\n",
      "0.0013499 bowl\n",
      "0.0012892 maybe\n",
      "0.0012856 quite\n",
      "0.0012610 inside\n",
      "0.0012550 meal\n",
      "0.0012410 thing\n",
      "0.0012006 liked\n",
      "0.0011338 bacon\n",
      "0.0011294 nice\n",
      "0.0011110 plate\n",
      "0.0010683 grilled\n",
      "0.0010364 try\n",
      "0.0010316 soup\n",
      "0.0009769 thats\n",
      "0.0009425 friend\n",
      "0.0009329 salty\n",
      "0.0009310 kind\n",
      "0.0009025 taste\n",
      "0.0008921 burger\n",
      "0.0008906 tomato\n",
      "0.0008689 two\n",
      "0.0007909 portion\n",
      "0.0007835 enough\n",
      "0.0007522 slightly\n",
      "0.0007442 hot\n",
      "0.0007329 chicken\n",
      "0.0007157 bite\n",
      "0.0006806 bun\n",
      "0.0006722 around\n",
      "0.0006637 dessert\n",
      "0.0006141 well\n",
      "0.0006107 special\n",
      "0.0005650 red\n",
      "0.0005507 french\n",
      "0.0004839 since\n",
      "0.0004759 salad\n",
      "0.0004327 green\n",
      "0.0004119 onion\n",
      "0.0004098 sure\n",
      "0.0003721 roll\n",
      "0.0003717 right\n",
      "0.0003491 big\n",
      "0.0003477 belly\n",
      "0.0002944 much\n",
      "0.0002745 lot\n",
      "0.0002678 soft\n",
      "0.0002528 fan\n",
      "0.0002323 tender\n",
      "0.0002221 overall\n",
      "0.0002103 roasted\n",
      "0.0001927 potato\n",
      "0.0001831 texture\n",
      "0.0001461 bean\n",
      "0.0000759 chocolate\n",
      "0.0000528 cream\n"
     ]
    }
   ],
   "source": [
    "print('feature importances:')\n",
    "index = sorted(range(len(classifier.feature_importances_)), key=lambda k: classifier.feature_importances_[k], reverse=True)\n",
    "fi_sort = sorted(classifier.feature_importances_, reverse=True)\n",
    "for i in range(len(features_text)):\n",
    "    print(f'{fi_sort[i]:.7f} {features_text[index[i]]}')"
   ]
  },
  {
   "cell_type": "markdown",
   "metadata": {},
   "source": [
    "### Experiment 2B. With Oversampling"
   ]
  },
  {
   "cell_type": "code",
   "execution_count": 18,
   "metadata": {},
   "outputs": [
    {
     "name": "stdout",
     "output_type": "stream",
     "text": [
      "Complete in 1.0m 52.53362226486206s\n"
     ]
    }
   ],
   "source": [
    "since = time.time()\n",
    "\n",
    "ros = SMOTE(random_state=42)\n",
    "x_train_oversampled, y_train_oversampled = ros.fit_resample(x_train_selected, y_train)\n",
    "\n",
    "time_elapsed = time.time() - since\n",
    "print(f'Complete in {time_elapsed // 60}m {time_elapsed % 60}s')"
   ]
  },
  {
   "cell_type": "code",
   "execution_count": 19,
   "metadata": {},
   "outputs": [
    {
     "name": "stdout",
     "output_type": "stream",
     "text": [
      "Training accuracy: 0.7954687164729196\n",
      "Test accuracy: 0.6858429181728557\n",
      "\n",
      "              precision    recall  f1-score   support\n",
      "\n",
      "       False       0.22      0.54      0.31     20153\n",
      "        True       0.91      0.71      0.80    131997\n",
      "\n",
      "    accuracy                           0.69    152150\n",
      "   macro avg       0.56      0.62      0.55    152150\n",
      "weighted avg       0.82      0.69      0.73    152150\n",
      "\n"
     ]
    },
    {
     "data": {
      "image/png": "[encoded data removed]",
      "text/plain": [
       "<Figure size 432x288 with 2 Axes>"
      ]
     },
     "metadata": {
      "needs_background": "light"
     },
     "output_type": "display_data"
    },
    {
     "name": "stdout",
     "output_type": "stream",
     "text": [
      "Complete in 2.0m 16.77055048942566s\n"
     ]
    }
   ],
   "source": [
    "# Boosting\n",
    "since = time.time()\n",
    "\n",
    "classifier = GradientBoostingClassifier(learning_rate=0.1, max_depth=5, max_features=0.5, random_state=42)\n",
    "classifier.fit(x_train_oversampled, y_train_oversampled)\n",
    "score = classifier.score(x_test_selected, y_test)\n",
    "\n",
    "print(f'Training accuracy: {classifier.score(x_train_oversampled, y_train_oversampled)}')\n",
    "print(f'Test accuracy: {score}\\n')\n",
    "\n",
    "predictions = classifier.predict(x_test_selected)\n",
    "print(classification_report(y_test, predictions))\n",
    "\n",
    "class_names = ['Fake Review', 'True Review']\n",
    "\n",
    "disp = plot_confusion_matrix(classifier, x_test_selected, y_test, display_labels=class_names, \n",
    "                             cmap=plt.cm.Blues, values_format='.6g')\n",
    "\n",
    "plt.show()\n",
    "\n",
    "time_elapsed = time.time() - since\n",
    "print(f'Complete in {time_elapsed // 60}m {time_elapsed % 60}s')"
   ]
  },
  {
   "cell_type": "code",
   "execution_count": 20,
   "metadata": {},
   "outputs": [
    {
     "name": "stdout",
     "output_type": "stream",
     "text": [
      "feature importances:\n",
      "0.0566118 also\n",
      "0.0510919 pretty\n",
      "0.0347371 im\n",
      "0.0285079 little\n",
      "0.0274190 sauce\n",
      "0.0238621 come\n",
      "0.0233938 bit\n",
      "0.0230165 got\n",
      "0.0222798 ive\n",
      "0.0221522 ordered\n",
      "0.0219769 really\n",
      "0.0219443 definitely\n",
      "0.0212141 tasty\n",
      "0.0210952 pork\n",
      "0.0186228 delicious\n",
      "0.0184713 though\n",
      "0.0175567 small\n",
      "0.0169717 spot\n",
      "0.0160553 came\n",
      "0.0160399 flavor\n",
      "0.0150257 like\n",
      "0.0143948 side\n",
      "0.0139180 cheese\n",
      "0.0136360 youre\n",
      "0.0133310 star\n",
      "0.0133190 brunch\n",
      "0.0126416 well\n",
      "0.0118864 super\n",
      "0.0116286 think\n",
      "0.0105441 try\n",
      "0.0102483 perfect\n",
      "0.0093827 get\n",
      "0.0091952 fried\n",
      "0.0089521 menu\n",
      "0.0088337 still\n",
      "0.0086385 sweet\n",
      "0.0084272 probably\n",
      "0.0075720 right\n",
      "0.0073832 decent\n",
      "0.0073578 happy\n",
      "0.0072936 thing\n",
      "0.0072451 id\n",
      "0.0071298 much\n",
      "0.0071211 special\n",
      "0.0068771 next\n",
      "0.0068460 beer\n",
      "0.0067287 huge\n",
      "0.0067273 lot\n",
      "0.0066561 dont\n",
      "0.0065494 wasnt\n",
      "0.0065049 seating\n",
      "0.0062743 option\n",
      "0.0057868 dish\n",
      "0.0057640 egg\n",
      "0.0056835 wait\n",
      "0.0056470 good\n",
      "0.0056345 enough\n",
      "0.0051245 didnt\n",
      "0.0051238 sandwich\n",
      "0.0049145 sure\n",
      "0.0048941 nice\n",
      "0.0048795 fry\n",
      "0.0046999 cute\n",
      "0.0045832 soup\n",
      "0.0044180 big\n",
      "0.0043194 line\n",
      "0.0041948 meat\n",
      "0.0041396 ill\n",
      "0.0041198 solid\n",
      "0.0039465 salad\n",
      "0.0039384 two\n",
      "0.0039107 space\n",
      "0.0038779 thats\n",
      "0.0037139 chicken\n",
      "0.0037083 quite\n",
      "0.0036670 spicy\n",
      "0.0036405 around\n",
      "0.0034847 flavorful\n",
      "0.0034091 large\n",
      "0.0032961 kind\n",
      "0.0032928 portion\n",
      "0.0032776 there\n",
      "0.0029917 bar\n",
      "0.0029085 beef\n",
      "0.0028814 bread\n",
      "0.0027616 inside\n",
      "0.0026467 perfectly\n",
      "0.0026443 noodle\n",
      "0.0025245 overall\n",
      "0.0022817 maybe\n",
      "0.0022313 dumpling\n",
      "0.0021658 hot\n",
      "0.0021241 table\n",
      "0.0020924 one\n",
      "0.0018367 bite\n",
      "0.0018031 taste\n",
      "0.0017421 veggie\n",
      "0.0016775 rice\n",
      "0.0016694 since\n",
      "0.0016511 pancake\n",
      "0.0015415 would\n",
      "0.0014657 liked\n",
      "0.0014384 customer\n",
      "0.0013981 grilled\n",
      "0.0013834 manager\n",
      "0.0013244 crispy\n",
      "0.0013235 red\n",
      "0.0010905 fan\n",
      "0.0010723 sausage\n",
      "0.0010633 roll\n",
      "0.0010548 ramen\n",
      "0.0010375 white\n",
      "0.0010014 place\n",
      "0.0009545 mushroom\n",
      "0.0009229 duck\n",
      "0.0009109 corn\n",
      "0.0007826 back\n",
      "0.0007702 dessert\n",
      "0.0007585 french\n",
      "0.0007170 meal\n",
      "0.0006878 light\n",
      "0.0005599 salty\n",
      "0.0005358 friend\n",
      "0.0004502 chocolate\n",
      "0.0004273 staff\n",
      "0.0003390 burger\n",
      "0.0002946 plate\n",
      "0.0002933 bacon\n",
      "0.0002909 green\n",
      "0.0002674 owner\n",
      "0.0001965 toast\n",
      "0.0001690 waffle\n",
      "0.0001164 rude\n",
      "0.0000668 belly\n",
      "0.0000660 horrible\n",
      "0.0000568 worst\n",
      "0.0000564 bun\n",
      "0.0000283 cream\n",
      "0.0000276 broth\n",
      "0.0000200 tomato\n",
      "0.0000098 onion\n",
      "0.0000058 bowl\n",
      "0.0000040 texture\n",
      "0.0000030 slightly\n",
      "0.0000025 potato\n",
      "0.0000000 bean\n",
      "0.0000000 creamy\n",
      "0.0000000 roasted\n",
      "0.0000000 soft\n",
      "0.0000000 tender\n"
     ]
    }
   ],
   "source": [
    "print('feature importances:')\n",
    "index = sorted(range(len(classifier.feature_importances_)), key=lambda k: classifier.feature_importances_[k], reverse=True)\n",
    "fi_sort = sorted(classifier.feature_importances_, reverse=True)\n",
    "for i in range(len(features_text)):\n",
    "    print(f'{fi_sort[i]:.7f} {features_text[index[i]]}')"
   ]
  },
  {
   "cell_type": "markdown",
   "metadata": {},
   "source": [
    "# Experiment 3 - both text features & behavior features"
   ]
  },
  {
   "cell_type": "markdown",
   "metadata": {},
   "source": [
    "## Prepare dataset to feed into model"
   ]
  },
  {
   "cell_type": "code",
   "execution_count": 21,
   "metadata": {},
   "outputs": [],
   "source": [
    "x_train, x_test, y_train, y_test = train_test_split(yelpZip_data.drop('label',axis=1), yelpZip_data['label'], test_size=0.25, random_state=42)"
   ]
  },
  {
   "cell_type": "markdown",
   "metadata": {},
   "source": [
    "### 1. Transform corpus to vector"
   ]
  },
  {
   "cell_type": "code",
   "execution_count": 22,
   "metadata": {},
   "outputs": [
    {
     "name": "stdout",
     "output_type": "stream",
     "text": [
      "Complete in 0.0m 19.46735119819641s\n"
     ]
    }
   ],
   "source": [
    "since = time.time()\n",
    "\n",
    "vectorizer = CountVectorizer(max_features=15000)\n",
    "vectorizer.fit(x_train['corpus'])\n",
    "\n",
    "time_elapsed = time.time() - since\n",
    "print(f'Complete in {time_elapsed // 60}m {time_elapsed % 60}s')"
   ]
  },
  {
   "cell_type": "code",
   "execution_count": 23,
   "metadata": {},
   "outputs": [
    {
     "name": "stdout",
     "output_type": "stream",
     "text": [
      "Complete in 0.0m 25.2117600440979s\n"
     ]
    }
   ],
   "source": [
    "since = time.time()\n",
    "\n",
    "x_train_text = vectorizer.transform(x_train['corpus'])\n",
    "x_test_text  = vectorizer.transform(x_test['corpus'])\n",
    "\n",
    "time_elapsed = time.time() - since\n",
    "print(f'Complete in {time_elapsed // 60}m {time_elapsed % 60}s')"
   ]
  },
  {
   "cell_type": "markdown",
   "metadata": {},
   "source": [
    "### 2. feature selection：chi-square"
   ]
  },
  {
   "cell_type": "code",
   "execution_count": 24,
   "metadata": {
    "scrolled": true
   },
   "outputs": [
    {
     "name": "stdout",
     "output_type": "stream",
     "text": [
      "x_train_selected shape: (456448, 150)\n",
      "x_test_selected shape: (152150, 150)\n"
     ]
    }
   ],
   "source": [
    "from sklearn.feature_selection import SelectKBest\n",
    "from sklearn.feature_selection import chi2\n",
    "\n",
    "pick_K = SelectKBest(chi2, k=150)\n",
    "x_train_selected = pick_K.fit_transform(x_train_text, y_train)\n",
    "print(\"x_train_selected shape:\", x_train_selected.shape)\n",
    "\n",
    "x_test_selected = pick_K.transform(x_test_text)  # transform不用Y，因為已經決定好要那些特徵了\n",
    "print(\"x_test_selected shape:\", x_test_selected.shape)"
   ]
  },
  {
   "cell_type": "code",
   "execution_count": 25,
   "metadata": {},
   "outputs": [],
   "source": [
    "features_text = []\n",
    "mask = pick_K.get_support()\n",
    "for bool, feature in zip(mask, vectorizer.get_feature_names()):\n",
    "    if bool:\n",
    "        features_text.append(feature)"
   ]
  },
  {
   "cell_type": "markdown",
   "metadata": {
    "id": "W_oAoPwmqn_E"
   },
   "source": [
    "### 3. Concat selected text features with other behavior features"
   ]
  },
  {
   "cell_type": "code",
   "execution_count": 26,
   "metadata": {
    "id": "q5slIsTtqn_E"
   },
   "outputs": [],
   "source": [
    "features = ['average_review_similarity', 'max_review_similarity', 'review_count_today', 'rating_deviation', 'tokenize_content_len',\n",
    "           'absolute_compound', 'cap_word_count', 'digit_word_count', 'length_deviation', 'review_count', 'extreme_rating_ratio']\n",
    "\n",
    "x_train = sp.sparse.hstack((x_train_selected, x_train[features].values))\n",
    "x_test = sp.sparse.hstack((x_test_selected, x_test[features].values))"
   ]
  },
  {
   "cell_type": "code",
   "execution_count": 27,
   "metadata": {},
   "outputs": [
    {
     "name": "stdout",
     "output_type": "stream",
     "text": [
      "x_train shape: (456448, 161)\n",
      "x_test shape: (152150, 161)\n"
     ]
    }
   ],
   "source": [
    "print(\"x_train shape:\", x_train.shape)\n",
    "print(\"x_test shape:\", x_test.shape)"
   ]
  },
  {
   "cell_type": "code",
   "execution_count": 28,
   "metadata": {},
   "outputs": [
    {
     "name": "stdout",
     "output_type": "stream",
     "text": [
      "161\n",
      "['also', 'around', 'back', 'bacon', 'bar']\n"
     ]
    }
   ],
   "source": [
    "features_all = features_text + features\n",
    "print(len(features_all))\n",
    "print(features_all[:5])"
   ]
  },
  {
   "cell_type": "markdown",
   "metadata": {},
   "source": [
    "## Train and Evaluate"
   ]
  },
  {
   "cell_type": "markdown",
   "metadata": {},
   "source": [
    "### Experiment 3A. Without Oversampling"
   ]
  },
  {
   "cell_type": "code",
   "execution_count": 29,
   "metadata": {},
   "outputs": [
    {
     "name": "stdout",
     "output_type": "stream",
     "text": [
      "Training accuracy: 0.8711419482613573\n",
      "Test accuracy: 0.8696023660860992\n",
      "\n",
      "              precision    recall  f1-score   support\n",
      "\n",
      "       False       0.58      0.05      0.10     20153\n",
      "        True       0.87      0.99      0.93    131997\n",
      "\n",
      "    accuracy                           0.87    152150\n",
      "   macro avg       0.73      0.52      0.51    152150\n",
      "weighted avg       0.83      0.87      0.82    152150\n",
      "\n"
     ]
    },
    {
     "data": {
      "image/png": "[encoded data removed]",
      "text/plain": [
       "<Figure size 432x288 with 2 Axes>"
      ]
     },
     "metadata": {
      "needs_background": "light"
     },
     "output_type": "display_data"
    },
    {
     "name": "stdout",
     "output_type": "stream",
     "text": [
      "Complete in 2.0m 34.25945830345154s\n"
     ]
    }
   ],
   "source": [
    "# Boosting\n",
    "since = time.time()\n",
    "\n",
    "classifier = GradientBoostingClassifier(learning_rate=0.1, max_depth=5, max_features=0.5, random_state=42)\n",
    "classifier.fit(x_train, y_train)\n",
    "score = classifier.score(x_test, y_test)\n",
    "\n",
    "print(f'Training accuracy: {classifier.score(x_train, y_train)}')\n",
    "print(f'Test accuracy: {score}\\n')\n",
    "\n",
    "predictions = classifier.predict(x_test)\n",
    "print(classification_report(y_test, predictions))\n",
    "\n",
    "class_names = ['Fake Review', 'True Review']\n",
    "\n",
    "disp = plot_confusion_matrix(classifier, x_test, y_test, display_labels=class_names, \n",
    "                             cmap=plt.cm.Blues, values_format='.6g')\n",
    "\n",
    "plt.show()\n",
    "\n",
    "time_elapsed = time.time() - since\n",
    "print(f'Complete in {time_elapsed // 60}m {time_elapsed % 60}s')"
   ]
  },
  {
   "cell_type": "code",
   "execution_count": 30,
   "metadata": {},
   "outputs": [
    {
     "name": "stdout",
     "output_type": "stream",
     "text": [
      "feature importances:\n",
      "0.2538155 review_count\n",
      "0.2406021 max_review_similarity\n",
      "0.1706555 average_review_similarity\n",
      "0.0898304 rating_deviation\n",
      "0.0530338 review_count_today\n",
      "0.0475260 extreme_rating_ratio\n",
      "0.0395705 tokenize_content_len\n",
      "0.0140287 length_deviation\n",
      "0.0088929 owner\n",
      "0.0057128 absolute_compound\n",
      "0.0041097 customer\n",
      "0.0035663 got\n",
      "0.0035185 ordered\n",
      "0.0032399 pork\n",
      "0.0031913 staff\n",
      "0.0027642 pretty\n",
      "0.0027468 ramen\n",
      "0.0027075 manager\n",
      "0.0026164 came\n",
      "0.0021957 flavor\n",
      "0.0020431 sauce\n",
      "0.0019879 im\n",
      "0.0019653 brunch\n",
      "0.0016712 didnt\n",
      "0.0016602 cap_word_count\n",
      "0.0015318 wasnt\n",
      "0.0014638 egg\n",
      "0.0013116 super\n",
      "0.0012018 star\n",
      "0.0011003 delicious\n",
      "0.0010845 dumpling\n",
      "0.0009915 place\n",
      "0.0009400 id\n",
      "0.0009092 noodle\n",
      "0.0009092 small\n",
      "0.0007962 ive\n",
      "0.0007866 definitely\n",
      "0.0007690 worst\n",
      "0.0006891 cheese\n",
      "0.0006532 line\n",
      "0.0005951 rude\n",
      "0.0005738 horrible\n",
      "0.0005658 cute\n",
      "0.0005629 waffle\n",
      "0.0005507 digit_word_count\n",
      "0.0005443 side\n",
      "0.0005188 fried\n",
      "0.0005124 youre\n",
      "0.0004987 table\n",
      "0.0004972 good\n",
      "0.0004461 little\n",
      "0.0004103 fry\n",
      "0.0004080 come\n",
      "0.0003929 menu\n",
      "0.0003476 next\n",
      "0.0003365 roll\n",
      "0.0003327 pancake\n",
      "0.0003246 though\n",
      "0.0003086 sweet\n",
      "0.0003071 spot\n",
      "0.0002921 two\n",
      "0.0002750 decent\n",
      "0.0002573 try\n",
      "0.0002534 seating\n",
      "0.0002510 wait\n",
      "0.0002499 tasty\n",
      "0.0002484 well\n",
      "0.0002404 bread\n",
      "0.0002387 meal\n",
      "0.0002353 toast\n",
      "0.0002339 white\n",
      "0.0002302 there\n",
      "0.0002228 plate\n",
      "0.0002227 salad\n",
      "0.0002166 sausage\n",
      "0.0002152 still\n",
      "0.0002149 really\n",
      "0.0002107 bit\n",
      "0.0002069 get\n",
      "0.0002025 friend\n",
      "0.0001947 salty\n",
      "0.0001924 one\n",
      "0.0001923 spicy\n",
      "0.0001903 sandwich\n",
      "0.0001897 bar\n",
      "0.0001818 bowl\n",
      "0.0001780 special\n",
      "0.0001778 bacon\n",
      "0.0001736 perfectly\n",
      "0.0001731 corn\n",
      "0.0001637 beer\n",
      "0.0001611 burger\n",
      "0.0001603 maybe\n",
      "0.0001591 like\n",
      "0.0001552 probably\n",
      "0.0001550 broth\n",
      "0.0001548 would\n",
      "0.0001538 chicken\n",
      "0.0001530 around\n",
      "0.0001485 back\n",
      "0.0001451 dish\n",
      "0.0001406 dont\n",
      "0.0001393 onion\n",
      "0.0001372 belly\n",
      "0.0001317 french\n",
      "0.0001294 meat\n",
      "0.0001279 flavorful\n",
      "0.0001248 chocolate\n",
      "0.0001246 think\n",
      "0.0001243 also\n",
      "0.0001240 quite\n",
      "0.0001224 soup\n",
      "0.0001196 veggie\n",
      "0.0001151 happy\n",
      "0.0001045 perfect\n",
      "0.0000990 thing\n",
      "0.0000942 cream\n",
      "0.0000923 creamy\n",
      "0.0000914 beef\n",
      "0.0000880 crispy\n",
      "0.0000847 bite\n",
      "0.0000830 bean\n",
      "0.0000820 mushroom\n",
      "0.0000807 taste\n",
      "0.0000753 much\n",
      "0.0000743 large\n",
      "0.0000642 grilled\n",
      "0.0000628 inside\n",
      "0.0000622 solid\n",
      "0.0000614 rice\n",
      "0.0000588 tomato\n",
      "0.0000574 lot\n",
      "0.0000574 bun\n",
      "0.0000565 soft\n",
      "0.0000564 enough\n",
      "0.0000557 right\n",
      "0.0000549 dessert\n",
      "0.0000535 option\n",
      "0.0000510 potato\n",
      "0.0000474 hot\n",
      "0.0000466 space\n",
      "0.0000405 portion\n",
      "0.0000368 tender\n",
      "0.0000360 nice\n",
      "0.0000340 huge\n",
      "0.0000330 kind\n",
      "0.0000292 duck\n",
      "0.0000276 overall\n",
      "0.0000251 ill\n",
      "0.0000197 thats\n",
      "0.0000174 green\n",
      "0.0000172 light\n",
      "0.0000170 texture\n",
      "0.0000139 slightly\n",
      "0.0000002 red\n",
      "0.0000000 roasted\n",
      "0.0000000 big\n",
      "0.0000000 fan\n",
      "0.0000000 liked\n",
      "0.0000000 since\n",
      "0.0000000 sure\n"
     ]
    }
   ],
   "source": [
    "print('feature importances:')\n",
    "index = sorted(range(len(classifier.feature_importances_)), key=lambda k: classifier.feature_importances_[k], reverse=True)\n",
    "fi_sort = sorted(classifier.feature_importances_, reverse=True)\n",
    "for i in range(len(features_all)):\n",
    "    print(f'{fi_sort[i]:.7f} {features_all[index[i]]}')"
   ]
  },
  {
   "cell_type": "markdown",
   "metadata": {},
   "source": [
    "### Experiment 3B. With Oversampling"
   ]
  },
  {
   "cell_type": "code",
   "execution_count": 31,
   "metadata": {},
   "outputs": [
    {
     "name": "stdout",
     "output_type": "stream",
     "text": [
      "Complete in 2.0m 59.66137886047363s\n"
     ]
    }
   ],
   "source": [
    "since = time.time()\n",
    "\n",
    "ros = SMOTE(random_state=42)\n",
    "x_train_oversampled, y_train_oversampled = ros.fit_resample(x_train, y_train)\n",
    "\n",
    "time_elapsed = time.time() - since\n",
    "print(f'Complete in {time_elapsed // 60}m {time_elapsed % 60}s')"
   ]
  },
  {
   "cell_type": "code",
   "execution_count": 32,
   "metadata": {},
   "outputs": [
    {
     "name": "stdout",
     "output_type": "stream",
     "text": [
      "Training accuracy: 0.8969000467012508\n",
      "Test accuracy: 0.8272954321393362\n",
      "\n",
      "              precision    recall  f1-score   support\n",
      "\n",
      "       False       0.36      0.41      0.39     20153\n",
      "        True       0.91      0.89      0.90    131997\n",
      "\n",
      "    accuracy                           0.83    152150\n",
      "   macro avg       0.64      0.65      0.64    152150\n",
      "weighted avg       0.84      0.83      0.83    152150\n",
      "\n"
     ]
    },
    {
     "data": {
      "image/png": "[encoded data removed]",
      "text/plain": [
       "<Figure size 432x288 with 2 Axes>"
      ]
     },
     "metadata": {
      "needs_background": "light"
     },
     "output_type": "display_data"
    },
    {
     "name": "stdout",
     "output_type": "stream",
     "text": [
      "Complete in 6.0m 50.455527544021606s\n"
     ]
    }
   ],
   "source": [
    "# Boosting\n",
    "since = time.time()\n",
    "\n",
    "classifier = GradientBoostingClassifier(learning_rate=0.1, max_depth=5, max_features=0.5, random_state=42)\n",
    "classifier.fit(x_train_oversampled, y_train_oversampled)\n",
    "score = classifier.score(x_test, y_test)\n",
    "\n",
    "print(f'Training accuracy: {classifier.score(x_train_oversampled, y_train_oversampled)}')\n",
    "print(f'Test accuracy: {score}\\n')\n",
    "\n",
    "predictions = classifier.predict(x_test)\n",
    "print(classification_report(y_test, predictions))\n",
    "\n",
    "class_names = ['Fake Review', 'True Review']\n",
    "\n",
    "disp = plot_confusion_matrix(classifier, x_test, y_test, display_labels=class_names, \n",
    "                             cmap=plt.cm.Blues, values_format='.6g')\n",
    "\n",
    "plt.show()\n",
    "\n",
    "time_elapsed = time.time() - since\n",
    "print(f'Complete in {time_elapsed // 60}m {time_elapsed % 60}s')"
   ]
  },
  {
   "cell_type": "code",
   "execution_count": 33,
   "metadata": {},
   "outputs": [
    {
     "name": "stdout",
     "output_type": "stream",
     "text": [
      "feature importances:\n",
      "0.3447670 review_count\n",
      "0.0885605 max_review_similarity\n",
      "0.0831977 review_count_today\n",
      "0.0356592 tokenize_content_len\n",
      "0.0288640 good\n",
      "0.0222273 extreme_rating_ratio\n",
      "0.0211460 average_review_similarity\n",
      "0.0197692 get\n",
      "0.0181267 cap_word_count\n",
      "0.0174645 really\n",
      "0.0173002 also\n",
      "0.0170975 delicious\n",
      "0.0132159 definitely\n",
      "0.0129026 ive\n",
      "0.0126892 rating_deviation\n",
      "0.0125795 little\n",
      "0.0109412 back\n",
      "0.0106095 got\n",
      "0.0105143 im\n",
      "0.0100636 dont\n",
      "0.0097990 wait\n",
      "0.0087650 come\n",
      "0.0081810 chicken\n",
      "0.0081102 ordered\n",
      "0.0080738 place\n",
      "0.0079834 like\n",
      "0.0077668 nice\n",
      "0.0073651 staff\n",
      "0.0068237 small\n",
      "0.0065539 sauce\n",
      "0.0061720 pretty\n",
      "0.0061030 try\n",
      "0.0055199 cheese\n",
      "0.0052223 one\n",
      "0.0043326 tasty\n",
      "0.0042616 digit_word_count\n",
      "0.0040918 spot\n",
      "0.0038364 came\n",
      "0.0037345 star\n",
      "0.0035771 well\n",
      "0.0034319 menu\n",
      "0.0033473 absolute_compound\n",
      "0.0033457 pork\n",
      "0.0031801 owner\n",
      "0.0030270 brunch\n",
      "0.0028951 perfect\n",
      "0.0026376 bit\n",
      "0.0026054 beer\n",
      "0.0022981 though\n",
      "0.0021584 dish\n",
      "0.0021478 would\n",
      "0.0020925 meal\n",
      "0.0019077 flavor\n",
      "0.0018699 super\n",
      "0.0018601 sandwich\n",
      "0.0015458 friend\n",
      "0.0015221 bar\n",
      "0.0014367 customer\n",
      "0.0012900 didnt\n",
      "0.0012888 length_deviation\n",
      "0.0011987 portion\n",
      "0.0009996 sure\n",
      "0.0009672 table\n",
      "0.0009645 youre\n",
      "0.0009613 side\n",
      "0.0009424 still\n",
      "0.0009074 next\n",
      "0.0007859 fry\n",
      "0.0007511 two\n",
      "0.0007393 happy\n",
      "0.0006979 special\n",
      "0.0006707 line\n",
      "0.0005831 much\n",
      "0.0005587 manager\n",
      "0.0005554 decent\n",
      "0.0005305 soup\n",
      "0.0004435 salad\n",
      "0.0004424 egg\n",
      "0.0004340 sweet\n",
      "0.0004311 fried\n",
      "0.0004298 taste\n",
      "0.0003854 option\n",
      "0.0003787 noodle\n",
      "0.0003562 right\n",
      "0.0003489 think\n",
      "0.0003416 wasnt\n",
      "0.0003019 seating\n",
      "0.0003000 bread\n",
      "0.0002594 burger\n",
      "0.0002243 meat\n",
      "0.0002239 dumpling\n",
      "0.0002177 ramen\n",
      "0.0002077 hot\n",
      "0.0001962 rice\n",
      "0.0001938 cute\n",
      "0.0001705 id\n",
      "0.0001569 thing\n",
      "0.0001516 lot\n",
      "0.0001147 spicy\n",
      "0.0000911 around\n",
      "0.0000691 enough\n",
      "0.0000614 fan\n",
      "0.0000589 huge\n",
      "0.0000537 solid\n",
      "0.0000504 perfectly\n",
      "0.0000429 pancake\n",
      "0.0000416 rude\n",
      "0.0000393 probably\n",
      "0.0000314 ill\n",
      "0.0000096 horrible\n",
      "0.0000088 worst\n",
      "0.0000078 there\n",
      "0.0000067 kind\n",
      "0.0000066 liked\n",
      "0.0000057 green\n",
      "0.0000040 overall\n",
      "0.0000040 white\n",
      "0.0000040 plate\n",
      "0.0000039 veggie\n",
      "0.0000027 quite\n",
      "0.0000026 thats\n",
      "0.0000025 large\n",
      "0.0000022 light\n",
      "0.0000022 tender\n",
      "0.0000017 crispy\n",
      "0.0000014 maybe\n",
      "0.0000014 roll\n",
      "0.0000013 mushroom\n",
      "0.0000006 bite\n",
      "0.0000000 bacon\n",
      "0.0000000 bean\n",
      "0.0000000 beef\n",
      "0.0000000 belly\n",
      "0.0000000 big\n",
      "0.0000000 bowl\n",
      "0.0000000 broth\n",
      "0.0000000 bun\n",
      "0.0000000 chocolate\n",
      "0.0000000 corn\n",
      "0.0000000 cream\n",
      "0.0000000 creamy\n",
      "0.0000000 dessert\n",
      "0.0000000 duck\n",
      "0.0000000 flavorful\n",
      "0.0000000 french\n",
      "0.0000000 grilled\n",
      "0.0000000 inside\n",
      "0.0000000 onion\n",
      "0.0000000 potato\n",
      "0.0000000 red\n",
      "0.0000000 roasted\n",
      "0.0000000 salty\n",
      "0.0000000 sausage\n",
      "0.0000000 since\n",
      "0.0000000 slightly\n",
      "0.0000000 soft\n",
      "0.0000000 space\n",
      "0.0000000 texture\n",
      "0.0000000 toast\n",
      "0.0000000 tomato\n",
      "0.0000000 waffle\n"
     ]
    }
   ],
   "source": [
    "print('feature importances:')\n",
    "index = sorted(range(len(classifier.feature_importances_)), key=lambda k: classifier.feature_importances_[k], reverse=True)\n",
    "fi_sort = sorted(classifier.feature_importances_, reverse=True)\n",
    "for i in range(len(features_all)):\n",
    "    print(f'{fi_sort[i]:.7f} {features_all[index[i]]}')"
   ]
  }
 ],
 "metadata": {
  "kernelspec": {
   "display_name": "Python 3",
   "language": "python",
   "name": "python3"
  },
  "language_info": {
   "codemirror_mode": {
    "name": "ipython",
    "version": 3
   },
   "file_extension": ".py",
   "mimetype": "text/x-python",
   "name": "python",
   "nbconvert_exporter": "python",
   "pygments_lexer": "ipython3",
   "version": "3.7.6"
  }
 },
 "nbformat": 4,
 "nbformat_minor": 4
}
