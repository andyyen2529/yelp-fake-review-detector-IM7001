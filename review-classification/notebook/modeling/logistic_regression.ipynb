{
 "cells": [
  {
   "cell_type": "code",
   "execution_count": 1,
   "metadata": {},
   "outputs": [],
   "source": [
    "from sklearn.feature_extraction.text import CountVectorizer\n",
    "from sklearn.model_selection import train_test_split\n",
    "from sklearn.linear_model import LogisticRegression\n",
    "from sklearn.metrics import classification_report\n",
    "from sklearn.metrics import plot_confusion_matrix\n",
    "from imblearn.over_sampling import SMOTE\n",
    "from collections import Counter\n",
    "\n",
    "import itertools\n",
    "import pandas as pd\n",
    "import numpy as np\n",
    "import scipy as sp\n",
    "import matplotlib.pyplot as plt\n",
    "import time\n",
    "\n",
    "np.set_printoptions(suppress=True)"
   ]
  },
  {
   "cell_type": "code",
   "execution_count": 2,
   "metadata": {
    "scrolled": false
   },
   "outputs": [
    {
     "data": {
      "text/html": [
       "<div>\n",
       "<style scoped>\n",
       "    .dataframe tbody tr th:only-of-type {\n",
       "        vertical-align: middle;\n",
       "    }\n",
       "\n",
       "    .dataframe tbody tr th {\n",
       "        vertical-align: top;\n",
       "    }\n",
       "\n",
       "    .dataframe thead th {\n",
       "        text-align: right;\n",
       "    }\n",
       "</style>\n",
       "<table border=\"1\" class=\"dataframe\">\n",
       "  <thead>\n",
       "    <tr style=\"text-align: right;\">\n",
       "      <th></th>\n",
       "      <th>userId</th>\n",
       "      <th>prodId</th>\n",
       "      <th>date</th>\n",
       "      <th>content</th>\n",
       "      <th>content_len</th>\n",
       "      <th>label</th>\n",
       "      <th>rating</th>\n",
       "      <th>average_review_similarity</th>\n",
       "      <th>max_review_similarity</th>\n",
       "      <th>review_count_today</th>\n",
       "      <th>...</th>\n",
       "      <th>neg</th>\n",
       "      <th>neu</th>\n",
       "      <th>pos</th>\n",
       "      <th>compound</th>\n",
       "      <th>cap_word_count</th>\n",
       "      <th>digit_word_count</th>\n",
       "      <th>absolute_compound</th>\n",
       "      <th>length_deviation</th>\n",
       "      <th>review_count</th>\n",
       "      <th>extreme_rating_ratio</th>\n",
       "    </tr>\n",
       "  </thead>\n",
       "  <tbody>\n",
       "    <tr>\n",
       "      <th>0</th>\n",
       "      <td>5044</td>\n",
       "      <td>0</td>\n",
       "      <td>2014-11-16</td>\n",
       "      <td>Drinks were bad, the hot chocolate was watered...</td>\n",
       "      <td>36</td>\n",
       "      <td>-1</td>\n",
       "      <td>1.0</td>\n",
       "      <td>0.000000</td>\n",
       "      <td>0.0000</td>\n",
       "      <td>1</td>\n",
       "      <td>...</td>\n",
       "      <td>0.513</td>\n",
       "      <td>0.487</td>\n",
       "      <td>0.000</td>\n",
       "      <td>-0.9287</td>\n",
       "      <td>0</td>\n",
       "      <td>0</td>\n",
       "      <td>0.9287</td>\n",
       "      <td>0.527778</td>\n",
       "      <td>1</td>\n",
       "      <td>0.0</td>\n",
       "    </tr>\n",
       "    <tr>\n",
       "      <th>1</th>\n",
       "      <td>5045</td>\n",
       "      <td>0</td>\n",
       "      <td>2014-09-08</td>\n",
       "      <td>This was the worst experience I've ever had a ...</td>\n",
       "      <td>248</td>\n",
       "      <td>-1</td>\n",
       "      <td>1.0</td>\n",
       "      <td>0.000000</td>\n",
       "      <td>0.0000</td>\n",
       "      <td>1</td>\n",
       "      <td>...</td>\n",
       "      <td>0.195</td>\n",
       "      <td>0.584</td>\n",
       "      <td>0.221</td>\n",
       "      <td>0.6128</td>\n",
       "      <td>0</td>\n",
       "      <td>2</td>\n",
       "      <td>0.6128</td>\n",
       "      <td>0.508065</td>\n",
       "      <td>1</td>\n",
       "      <td>0.0</td>\n",
       "    </tr>\n",
       "    <tr>\n",
       "      <th>2</th>\n",
       "      <td>5046</td>\n",
       "      <td>0</td>\n",
       "      <td>2013-10-06</td>\n",
       "      <td>This is located on the site of the old Spruce ...</td>\n",
       "      <td>50</td>\n",
       "      <td>-1</td>\n",
       "      <td>3.0</td>\n",
       "      <td>0.162733</td>\n",
       "      <td>0.3298</td>\n",
       "      <td>1</td>\n",
       "      <td>...</td>\n",
       "      <td>0.000</td>\n",
       "      <td>0.610</td>\n",
       "      <td>0.390</td>\n",
       "      <td>0.9153</td>\n",
       "      <td>1</td>\n",
       "      <td>0</td>\n",
       "      <td>0.9153</td>\n",
       "      <td>0.520000</td>\n",
       "      <td>4</td>\n",
       "      <td>0.0</td>\n",
       "    </tr>\n",
       "    <tr>\n",
       "      <th>3</th>\n",
       "      <td>5047</td>\n",
       "      <td>0</td>\n",
       "      <td>2014-11-30</td>\n",
       "      <td>I enjoyed coffee and breakfast twice at Toast ...</td>\n",
       "      <td>233</td>\n",
       "      <td>-1</td>\n",
       "      <td>5.0</td>\n",
       "      <td>0.000000</td>\n",
       "      <td>0.0000</td>\n",
       "      <td>1</td>\n",
       "      <td>...</td>\n",
       "      <td>0.016</td>\n",
       "      <td>0.614</td>\n",
       "      <td>0.370</td>\n",
       "      <td>0.9954</td>\n",
       "      <td>1</td>\n",
       "      <td>0</td>\n",
       "      <td>0.9954</td>\n",
       "      <td>0.446352</td>\n",
       "      <td>1</td>\n",
       "      <td>0.0</td>\n",
       "    </tr>\n",
       "    <tr>\n",
       "      <th>4</th>\n",
       "      <td>5048</td>\n",
       "      <td>0</td>\n",
       "      <td>2014-08-28</td>\n",
       "      <td>I love Toast! The food choices are fantastic -...</td>\n",
       "      <td>152</td>\n",
       "      <td>-1</td>\n",
       "      <td>5.0</td>\n",
       "      <td>0.000000</td>\n",
       "      <td>0.0000</td>\n",
       "      <td>1</td>\n",
       "      <td>...</td>\n",
       "      <td>0.000</td>\n",
       "      <td>0.518</td>\n",
       "      <td>0.482</td>\n",
       "      <td>0.9945</td>\n",
       "      <td>0</td>\n",
       "      <td>0</td>\n",
       "      <td>0.9945</td>\n",
       "      <td>0.480263</td>\n",
       "      <td>1</td>\n",
       "      <td>0.0</td>\n",
       "    </tr>\n",
       "  </tbody>\n",
       "</table>\n",
       "<p>5 rows × 24 columns</p>\n",
       "</div>"
      ],
      "text/plain": [
       "   userId  prodId        date  \\\n",
       "0    5044       0  2014-11-16   \n",
       "1    5045       0  2014-09-08   \n",
       "2    5046       0  2013-10-06   \n",
       "3    5047       0  2014-11-30   \n",
       "4    5048       0  2014-08-28   \n",
       "\n",
       "                                             content  content_len  label  \\\n",
       "0  Drinks were bad, the hot chocolate was watered...           36     -1   \n",
       "1  This was the worst experience I've ever had a ...          248     -1   \n",
       "2  This is located on the site of the old Spruce ...           50     -1   \n",
       "3  I enjoyed coffee and breakfast twice at Toast ...          233     -1   \n",
       "4  I love Toast! The food choices are fantastic -...          152     -1   \n",
       "\n",
       "   rating  average_review_similarity  max_review_similarity  \\\n",
       "0     1.0                   0.000000                 0.0000   \n",
       "1     1.0                   0.000000                 0.0000   \n",
       "2     3.0                   0.162733                 0.3298   \n",
       "3     5.0                   0.000000                 0.0000   \n",
       "4     5.0                   0.000000                 0.0000   \n",
       "\n",
       "   review_count_today  ...    neg    neu    pos compound  cap_word_count  \\\n",
       "0                   1  ...  0.513  0.487  0.000  -0.9287               0   \n",
       "1                   1  ...  0.195  0.584  0.221   0.6128               0   \n",
       "2                   1  ...  0.000  0.610  0.390   0.9153               1   \n",
       "3                   1  ...  0.016  0.614  0.370   0.9954               1   \n",
       "4                   1  ...  0.000  0.518  0.482   0.9945               0   \n",
       "\n",
       "   digit_word_count  absolute_compound  length_deviation  review_count  \\\n",
       "0                 0             0.9287          0.527778             1   \n",
       "1                 2             0.6128          0.508065             1   \n",
       "2                 0             0.9153          0.520000             4   \n",
       "3                 0             0.9954          0.446352             1   \n",
       "4                 0             0.9945          0.480263             1   \n",
       "\n",
       "   extreme_rating_ratio  \n",
       "0                   0.0  \n",
       "1                   0.0  \n",
       "2                   0.0  \n",
       "3                   0.0  \n",
       "4                   0.0  \n",
       "\n",
       "[5 rows x 24 columns]"
      ]
     },
     "execution_count": 2,
     "metadata": {},
     "output_type": "execute_result"
    }
   ],
   "source": [
    "yelpZip_preprocessed = pd.read_pickle('../../data/processed/yelpZip_preprocessed.pkl')\n",
    "\n",
    "yelpZip_data = yelpZip_preprocessed.copy()\n",
    "yelpZip_data.head()"
   ]
  },
  {
   "cell_type": "markdown",
   "metadata": {},
   "source": [
    "# Experiment 1  - without text features"
   ]
  },
  {
   "cell_type": "markdown",
   "metadata": {},
   "source": [
    "## Prepare dataset to feed into model"
   ]
  },
  {
   "cell_type": "code",
   "execution_count": 3,
   "metadata": {},
   "outputs": [],
   "source": [
    "yelpZip_data['label'].replace(1, True, inplace=True)\n",
    "yelpZip_data['label'].replace(-1, False, inplace=True)"
   ]
  },
  {
   "cell_type": "code",
   "execution_count": 4,
   "metadata": {},
   "outputs": [],
   "source": [
    "x_train, x_test, y_train, y_test = train_test_split(yelpZip_data.drop('label',axis=1), yelpZip_data['label'], test_size=0.25, random_state=42)"
   ]
  },
  {
   "cell_type": "code",
   "execution_count": 5,
   "metadata": {},
   "outputs": [],
   "source": [
    "# features = ['overall_review_similarity', 'review_count_today', 'rating_deviation', 'tokenize_content_len']\n",
    "features = ['average_review_similarity', 'max_review_similarity', 'review_count_today', 'rating_deviation', 'tokenize_content_len',\n",
    "           'absolute_compound', 'cap_word_count', 'digit_word_count', 'length_deviation', 'review_count', 'extreme_rating_ratio']\n",
    "\n",
    "x_train = x_train[features]\n",
    "x_test = x_test[features]"
   ]
  },
  {
   "cell_type": "markdown",
   "metadata": {},
   "source": [
    "## Train and Evaluate"
   ]
  },
  {
   "cell_type": "markdown",
   "metadata": {},
   "source": [
    "### Experiment 1A. Without Oversampling"
   ]
  },
  {
   "cell_type": "code",
   "execution_count": 6,
   "metadata": {},
   "outputs": [
    {
     "name": "stdout",
     "output_type": "stream",
     "text": [
      "Accuracy: 0.8673085770621097\n",
      "\n",
      "Complete in 0.0m 46.4949734210968s\n"
     ]
    }
   ],
   "source": [
    "since = time.time()\n",
    "\n",
    "classifier = LogisticRegression(max_iter=1000, n_jobs=-1)\n",
    "classifier.fit(x_train, y_train)\n",
    "score = classifier.score(x_test, y_test)\n",
    "\n",
    "print(f'Accuracy: {score}\\n')\n",
    "time_elapsed = time.time() - since\n",
    "print(f'Complete in {time_elapsed // 60}m {time_elapsed % 60}s')"
   ]
  },
  {
   "cell_type": "code",
   "execution_count": 7,
   "metadata": {},
   "outputs": [
    {
     "data": {
      "image/png": "[encoded data removed]",
      "text/plain": [
       "<Figure size 432x288 with 2 Axes>"
      ]
     },
     "metadata": {
      "needs_background": "light"
     },
     "output_type": "display_data"
    }
   ],
   "source": [
    "class_names = ['Fake Review', 'True Review']\n",
    "\n",
    "disp = plot_confusion_matrix(classifier, x_test, y_test, display_labels=class_names, \n",
    "                             cmap=plt.cm.Blues, values_format='.6g')\n",
    "\n",
    "plt.show()"
   ]
  },
  {
   "cell_type": "code",
   "execution_count": 8,
   "metadata": {},
   "outputs": [
    {
     "name": "stdout",
     "output_type": "stream",
     "text": [
      "              precision    recall  f1-score   support\n",
      "\n",
      "       False       0.37      0.00      0.01     20153\n",
      "        True       0.87      1.00      0.93    131997\n",
      "\n",
      "    accuracy                           0.87    152150\n",
      "   macro avg       0.62      0.50      0.47    152150\n",
      "weighted avg       0.80      0.87      0.81    152150\n",
      "\n"
     ]
    }
   ],
   "source": [
    "predictions = classifier.predict(x_test)\n",
    "print(classification_report(y_test, predictions))"
   ]
  },
  {
   "cell_type": "markdown",
   "metadata": {},
   "source": [
    "### Experiment 1B. With Oversampling"
   ]
  },
  {
   "cell_type": "code",
   "execution_count": 9,
   "metadata": {},
   "outputs": [
    {
     "name": "stdout",
     "output_type": "stream",
     "text": [
      "Complete in 0.0m 1.8140435218811035s\n"
     ]
    }
   ],
   "source": [
    "since = time.time()\n",
    "\n",
    "ros = SMOTE(random_state=42)\n",
    "x_train_oversampled, y_train_oversampled = ros.fit_resample(x_train, y_train)\n",
    "\n",
    "time_elapsed = time.time() - since\n",
    "print(f'Complete in {time_elapsed // 60}m {time_elapsed % 60}s')"
   ]
  },
  {
   "cell_type": "code",
   "execution_count": 10,
   "metadata": {},
   "outputs": [
    {
     "name": "stdout",
     "output_type": "stream",
     "text": [
      "Accuracy: 0.6802300361485376\n",
      "\n",
      "Complete in 1.0m 2.075929880142212s\n"
     ]
    }
   ],
   "source": [
    "since = time.time()\n",
    "\n",
    "classifier = LogisticRegression(max_iter=1000, n_jobs=-1)\n",
    "classifier.fit(x_train_oversampled, y_train_oversampled)\n",
    "score = classifier.score(x_test, y_test)\n",
    "\n",
    "print(f'Accuracy: {score}\\n')\n",
    "time_elapsed = time.time() - since\n",
    "print(f'Complete in {time_elapsed // 60}m {time_elapsed % 60}s')"
   ]
  },
  {
   "cell_type": "code",
   "execution_count": 11,
   "metadata": {},
   "outputs": [
    {
     "data": {
      "image/png": "[encoded data removed]",
      "text/plain": [
       "<Figure size 432x288 with 2 Axes>"
      ]
     },
     "metadata": {
      "needs_background": "light"
     },
     "output_type": "display_data"
    }
   ],
   "source": [
    "class_names = ['Fake Review', 'True Review']\n",
    "\n",
    "disp = plot_confusion_matrix(classifier, x_test, y_test, display_labels=class_names, \n",
    "                             cmap=plt.cm.Blues, values_format='.6g')\n",
    "\n",
    "plt.show()"
   ]
  },
  {
   "cell_type": "code",
   "execution_count": 12,
   "metadata": {
    "scrolled": true
   },
   "outputs": [
    {
     "name": "stdout",
     "output_type": "stream",
     "text": [
      "              precision    recall  f1-score   support\n",
      "\n",
      "       False       0.27      0.80      0.40     20153\n",
      "        True       0.96      0.66      0.78    131997\n",
      "\n",
      "    accuracy                           0.68    152150\n",
      "   macro avg       0.61      0.73      0.59    152150\n",
      "weighted avg       0.86      0.68      0.73    152150\n",
      "\n"
     ]
    }
   ],
   "source": [
    "predictions = classifier.predict(x_test)\n",
    "print(classification_report(y_test, predictions))"
   ]
  },
  {
   "cell_type": "code",
   "execution_count": null,
   "metadata": {},
   "outputs": [],
   "source": []
  },
  {
   "cell_type": "markdown",
   "metadata": {},
   "source": [
    "# Experiment 2 - only text features"
   ]
  },
  {
   "cell_type": "markdown",
   "metadata": {},
   "source": [
    "## Prepare dataset to feed into model"
   ]
  },
  {
   "cell_type": "code",
   "execution_count": 13,
   "metadata": {},
   "outputs": [],
   "source": [
    "x_train, x_test, y_train, y_test = train_test_split(yelpZip_data.drop('label',axis=1), yelpZip_data['label'], test_size=0.25, random_state=42)"
   ]
  },
  {
   "cell_type": "markdown",
   "metadata": {},
   "source": [
    "### 1. Transform corpus to vector"
   ]
  },
  {
   "cell_type": "code",
   "execution_count": 14,
   "metadata": {},
   "outputs": [
    {
     "name": "stdout",
     "output_type": "stream",
     "text": [
      "Complete in 0.0m 15.449288606643677s\n"
     ]
    }
   ],
   "source": [
    "since = time.time()\n",
    "\n",
    "vectorizer = CountVectorizer(max_features=15000)\n",
    "vectorizer.fit(x_train['corpus'])\n",
    "\n",
    "time_elapsed = time.time() - since\n",
    "print(f'Complete in {time_elapsed // 60}m {time_elapsed % 60}s')"
   ]
  },
  {
   "cell_type": "code",
   "execution_count": 15,
   "metadata": {},
   "outputs": [
    {
     "name": "stdout",
     "output_type": "stream",
     "text": [
      "Complete in 0.0m 20.996596097946167s\n"
     ]
    }
   ],
   "source": [
    "since = time.time()\n",
    "\n",
    "x_train = vectorizer.transform(x_train['corpus'])\n",
    "x_test  = vectorizer.transform(x_test['corpus'])\n",
    "\n",
    "time_elapsed = time.time() - since\n",
    "print(f'Complete in {time_elapsed // 60}m {time_elapsed % 60}s')"
   ]
  },
  {
   "cell_type": "markdown",
   "metadata": {},
   "source": [
    "### 2. feature selection：chi-square"
   ]
  },
  {
   "cell_type": "code",
   "execution_count": 16,
   "metadata": {
    "scrolled": true
   },
   "outputs": [
    {
     "name": "stdout",
     "output_type": "stream",
     "text": [
      "x_train_selected shape: (456448, 1000)\n",
      "x_test_selected shape: (152150, 1000)\n"
     ]
    }
   ],
   "source": [
    "from sklearn.feature_selection import SelectKBest\n",
    "from sklearn.feature_selection import chi2\n",
    "\n",
    "pick_K = SelectKBest(chi2, k=1000)\n",
    "x_train_selected = pick_K.fit_transform(x_train, y_train)\n",
    "print(\"x_train_selected shape:\", x_train_selected.shape)\n",
    "\n",
    "x_test_selected = pick_K.transform(x_test)  # transform不用Y，因為已經決定好要那些特徵了\n",
    "print(\"x_test_selected shape:\", x_test_selected.shape)"
   ]
  },
  {
   "cell_type": "markdown",
   "metadata": {},
   "source": [
    "## Train and Evaluate"
   ]
  },
  {
   "cell_type": "markdown",
   "metadata": {},
   "source": [
    "### Experiment 2A. Without Oversampling"
   ]
  },
  {
   "cell_type": "code",
   "execution_count": 17,
   "metadata": {},
   "outputs": [
    {
     "name": "stdout",
     "output_type": "stream",
     "text": [
      "Accuracy: 0.8679066710483075\n",
      "\n",
      "Complete in 0.0m 6.176638126373291s\n"
     ]
    }
   ],
   "source": [
    "since = time.time()\n",
    "\n",
    "classifier = LogisticRegression(max_iter=100, n_jobs=-1)\n",
    "classifier.fit(x_train_selected, y_train)\n",
    "score = classifier.score(x_test_selected, y_test)\n",
    "\n",
    "print(f'Accuracy: {score}\\n')\n",
    "time_elapsed = time.time() - since\n",
    "print(f'Complete in {time_elapsed // 60}m {time_elapsed % 60}s')"
   ]
  },
  {
   "cell_type": "code",
   "execution_count": 18,
   "metadata": {},
   "outputs": [
    {
     "data": {
      "image/png": "[encoded data removed]",
      "text/plain": [
       "<Figure size 432x288 with 2 Axes>"
      ]
     },
     "metadata": {
      "needs_background": "light"
     },
     "output_type": "display_data"
    }
   ],
   "source": [
    "class_names = ['Fake Review', 'True Review']\n",
    "\n",
    "disp = plot_confusion_matrix(classifier, x_test_selected, y_test, display_labels=class_names, \n",
    "                             cmap=plt.cm.Blues, values_format='.6g')\n",
    "\n",
    "plt.show()"
   ]
  },
  {
   "cell_type": "code",
   "execution_count": 19,
   "metadata": {},
   "outputs": [
    {
     "name": "stdout",
     "output_type": "stream",
     "text": [
      "              precision    recall  f1-score   support\n",
      "\n",
      "       False       0.54      0.02      0.04     20153\n",
      "        True       0.87      1.00      0.93    131997\n",
      "\n",
      "    accuracy                           0.87    152150\n",
      "   macro avg       0.70      0.51      0.48    152150\n",
      "weighted avg       0.83      0.87      0.81    152150\n",
      "\n"
     ]
    }
   ],
   "source": [
    "predictions = classifier.predict(x_test_selected)\n",
    "print(classification_report(y_test, predictions))"
   ]
  },
  {
   "cell_type": "markdown",
   "metadata": {},
   "source": [
    "### Experiment 2B. With Oversampling"
   ]
  },
  {
   "cell_type": "code",
   "execution_count": 20,
   "metadata": {},
   "outputs": [
    {
     "name": "stdout",
     "output_type": "stream",
     "text": [
      "Complete in 1.0m 48.25989007949829s\n"
     ]
    }
   ],
   "source": [
    "since = time.time()\n",
    "\n",
    "ros = SMOTE(random_state=42)\n",
    "x_train_oversampled, y_train_oversampled = ros.fit_resample(x_train_selected, y_train)\n",
    "\n",
    "time_elapsed = time.time() - since\n",
    "print(f'Complete in {time_elapsed // 60}m {time_elapsed % 60}s')"
   ]
  },
  {
   "cell_type": "code",
   "execution_count": 21,
   "metadata": {},
   "outputs": [
    {
     "name": "stdout",
     "output_type": "stream",
     "text": [
      "Accuracy: 0.7365494577719356\n",
      "\n",
      "Complete in 0.0m 9.933497428894043s\n"
     ]
    }
   ],
   "source": [
    "since = time.time()\n",
    "\n",
    "classifier = LogisticRegression(max_iter=100, n_jobs=-1)\n",
    "classifier.fit(x_train_oversampled, y_train_oversampled)\n",
    "score = classifier.score(x_test_selected, y_test)\n",
    "\n",
    "print(f'Accuracy: {score}\\n')\n",
    "time_elapsed = time.time() - since\n",
    "print(f'Complete in {time_elapsed // 60}m {time_elapsed % 60}s')"
   ]
  },
  {
   "cell_type": "code",
   "execution_count": 22,
   "metadata": {},
   "outputs": [
    {
     "data": {
      "image/png": "[encoded data removed]",
      "text/plain": [
       "<Figure size 432x288 with 2 Axes>"
      ]
     },
     "metadata": {
      "needs_background": "light"
     },
     "output_type": "display_data"
    }
   ],
   "source": [
    "class_names = ['Fake Review', 'True Review']\n",
    "\n",
    "disp = plot_confusion_matrix(classifier, x_test_selected, y_test, display_labels=class_names, \n",
    "                             cmap=plt.cm.Blues, values_format='.6g')\n",
    "\n",
    "plt.show()"
   ]
  },
  {
   "cell_type": "code",
   "execution_count": 23,
   "metadata": {
    "scrolled": true
   },
   "outputs": [
    {
     "name": "stdout",
     "output_type": "stream",
     "text": [
      "              precision    recall  f1-score   support\n",
      "\n",
      "       False       0.24      0.47      0.32     20153\n",
      "        True       0.91      0.78      0.84    131997\n",
      "\n",
      "    accuracy                           0.74    152150\n",
      "   macro avg       0.58      0.62      0.58    152150\n",
      "weighted avg       0.82      0.74      0.77    152150\n",
      "\n"
     ]
    }
   ],
   "source": [
    "predictions = classifier.predict(x_test_selected)\n",
    "print(classification_report(y_test, predictions))"
   ]
  },
  {
   "cell_type": "code",
   "execution_count": null,
   "metadata": {},
   "outputs": [],
   "source": []
  },
  {
   "cell_type": "markdown",
   "metadata": {},
   "source": [
    "# Experiment 3 - both text features & behavior features"
   ]
  },
  {
   "cell_type": "markdown",
   "metadata": {},
   "source": [
    "## Prepare dataset to feed into model"
   ]
  },
  {
   "cell_type": "code",
   "execution_count": 24,
   "metadata": {},
   "outputs": [],
   "source": [
    "x_train, x_test, y_train, y_test = train_test_split(yelpZip_data.drop('label',axis=1), yelpZip_data['label'], test_size=0.25, random_state=42)"
   ]
  },
  {
   "cell_type": "markdown",
   "metadata": {},
   "source": [
    "### 1. Transform corpus to vector"
   ]
  },
  {
   "cell_type": "code",
   "execution_count": 25,
   "metadata": {},
   "outputs": [
    {
     "name": "stdout",
     "output_type": "stream",
     "text": [
      "Complete in 0.0m 15.293104887008667s\n"
     ]
    }
   ],
   "source": [
    "since = time.time()\n",
    "\n",
    "vectorizer = CountVectorizer(max_features=15000)\n",
    "vectorizer.fit(x_train['corpus'])\n",
    "\n",
    "time_elapsed = time.time() - since\n",
    "print(f'Complete in {time_elapsed // 60}m {time_elapsed % 60}s')"
   ]
  },
  {
   "cell_type": "code",
   "execution_count": 26,
   "metadata": {},
   "outputs": [
    {
     "name": "stdout",
     "output_type": "stream",
     "text": [
      "Complete in 0.0m 20.95709729194641s\n"
     ]
    }
   ],
   "source": [
    "since = time.time()\n",
    "\n",
    "x_train_text = vectorizer.transform(x_train['corpus'])\n",
    "x_test_text  = vectorizer.transform(x_test['corpus'])\n",
    "\n",
    "time_elapsed = time.time() - since\n",
    "print(f'Complete in {time_elapsed // 60}m {time_elapsed % 60}s')"
   ]
  },
  {
   "cell_type": "markdown",
   "metadata": {},
   "source": [
    "### 2. feature selection：chi-square"
   ]
  },
  {
   "cell_type": "code",
   "execution_count": 27,
   "metadata": {
    "scrolled": true
   },
   "outputs": [
    {
     "name": "stdout",
     "output_type": "stream",
     "text": [
      "x_train_selected shape: (456448, 1000)\n",
      "x_test_selected shape: (152150, 1000)\n"
     ]
    }
   ],
   "source": [
    "from sklearn.feature_selection import SelectKBest\n",
    "from sklearn.feature_selection import chi2\n",
    "\n",
    "pick_K = SelectKBest(chi2, k=1000)\n",
    "x_train_selected = pick_K.fit_transform(x_train_text, y_train)\n",
    "print(\"x_train_selected shape:\", x_train_selected.shape)\n",
    "\n",
    "x_test_selected = pick_K.transform(x_test_text)  # transform不用Y，因為已經決定好要那些特徵了\n",
    "print(\"x_test_selected shape:\", x_test_selected.shape)"
   ]
  },
  {
   "cell_type": "markdown",
   "metadata": {
    "id": "W_oAoPwmqn_E"
   },
   "source": [
    "### 3. Concat selected text features with other behavior features"
   ]
  },
  {
   "cell_type": "code",
   "execution_count": 28,
   "metadata": {
    "id": "q5slIsTtqn_E"
   },
   "outputs": [],
   "source": [
    "features = ['average_review_similarity', 'max_review_similarity', 'review_count_today', 'rating_deviation', 'tokenize_content_len',\n",
    "           'absolute_compound', 'cap_word_count', 'digit_word_count', 'length_deviation', 'review_count', 'extreme_rating_ratio']\n",
    "\n",
    "x_train = sp.sparse.hstack((x_train_selected, x_train[features].values))\n",
    "x_test = sp.sparse.hstack((x_test_selected, x_test[features].values))"
   ]
  },
  {
   "cell_type": "code",
   "execution_count": 29,
   "metadata": {},
   "outputs": [
    {
     "name": "stdout",
     "output_type": "stream",
     "text": [
      "x_train shape: (456448, 1011)\n",
      "x_test shape: (152150, 1011)\n"
     ]
    }
   ],
   "source": [
    "print(\"x_train shape:\", x_train.shape)\n",
    "print(\"x_test shape:\", x_test.shape)"
   ]
  },
  {
   "cell_type": "markdown",
   "metadata": {},
   "source": [
    "## Train and Evaluate"
   ]
  },
  {
   "cell_type": "markdown",
   "metadata": {},
   "source": [
    "### Experiment 3A. Without Oversampling"
   ]
  },
  {
   "cell_type": "code",
   "execution_count": 30,
   "metadata": {},
   "outputs": [
    {
     "name": "stdout",
     "output_type": "stream",
     "text": [
      "Accuracy: 0.8689845547157411\n",
      "\n",
      "Complete in 0.0m 7.504557847976685s\n"
     ]
    }
   ],
   "source": [
    "since = time.time()\n",
    "\n",
    "classifier = LogisticRegression(max_iter=100, n_jobs=-1)\n",
    "classifier.fit(x_train, y_train)\n",
    "score = classifier.score(x_test, y_test)\n",
    "\n",
    "print(f'Accuracy: {score}\\n')\n",
    "time_elapsed = time.time() - since\n",
    "print(f'Complete in {time_elapsed // 60}m {time_elapsed % 60}s')"
   ]
  },
  {
   "cell_type": "code",
   "execution_count": 31,
   "metadata": {},
   "outputs": [
    {
     "data": {
      "image/png": "[encoded data removed]",
      "text/plain": [
       "<Figure size 432x288 with 2 Axes>"
      ]
     },
     "metadata": {
      "needs_background": "light"
     },
     "output_type": "display_data"
    }
   ],
   "source": [
    "class_names = ['Fake Review', 'True Review']\n",
    "\n",
    "disp = plot_confusion_matrix(classifier, x_test, y_test, display_labels=class_names, \n",
    "                             cmap=plt.cm.Blues, values_format='.6g')\n",
    "\n",
    "plt.show()"
   ]
  },
  {
   "cell_type": "code",
   "execution_count": 32,
   "metadata": {},
   "outputs": [
    {
     "name": "stdout",
     "output_type": "stream",
     "text": [
      "              precision    recall  f1-score   support\n",
      "\n",
      "       False       0.55      0.06      0.11     20153\n",
      "        True       0.87      0.99      0.93    131997\n",
      "\n",
      "    accuracy                           0.87    152150\n",
      "   macro avg       0.71      0.53      0.52    152150\n",
      "weighted avg       0.83      0.87      0.82    152150\n",
      "\n"
     ]
    }
   ],
   "source": [
    "predictions = classifier.predict(x_test)\n",
    "print(classification_report(y_test, predictions))"
   ]
  },
  {
   "cell_type": "markdown",
   "metadata": {},
   "source": [
    "### Experiment 3B. With Oversampling"
   ]
  },
  {
   "cell_type": "code",
   "execution_count": 33,
   "metadata": {},
   "outputs": [
    {
     "name": "stdout",
     "output_type": "stream",
     "text": [
      "Complete in 2.0m 47.42421770095825s\n"
     ]
    }
   ],
   "source": [
    "since = time.time()\n",
    "\n",
    "ros = SMOTE(random_state=42)\n",
    "x_train_oversampled, y_train_oversampled = ros.fit_resample(x_train, y_train)\n",
    "\n",
    "time_elapsed = time.time() - since\n",
    "print(f'Complete in {time_elapsed // 60}m {time_elapsed % 60}s')"
   ]
  },
  {
   "cell_type": "code",
   "execution_count": 34,
   "metadata": {},
   "outputs": [
    {
     "name": "stdout",
     "output_type": "stream",
     "text": [
      "Accuracy: 0.7343871179756819\n",
      "\n",
      "Complete in 0.0m 13.201040744781494s\n"
     ]
    }
   ],
   "source": [
    "since = time.time()\n",
    "\n",
    "classifier = LogisticRegression(max_iter=100, n_jobs=-1)\n",
    "classifier.fit(x_train_oversampled, y_train_oversampled)\n",
    "score = classifier.score(x_test, y_test)\n",
    "\n",
    "print(f'Accuracy: {score}\\n')\n",
    "time_elapsed = time.time() - since\n",
    "print(f'Complete in {time_elapsed // 60}m {time_elapsed % 60}s')"
   ]
  },
  {
   "cell_type": "code",
   "execution_count": 35,
   "metadata": {},
   "outputs": [
    {
     "data": {
      "image/png": "[encoded data removed]",
      "text/plain": [
       "<Figure size 432x288 with 2 Axes>"
      ]
     },
     "metadata": {
      "needs_background": "light"
     },
     "output_type": "display_data"
    }
   ],
   "source": [
    "class_names = ['Fake Review', 'True Review']\n",
    "\n",
    "disp = plot_confusion_matrix(classifier, x_test, y_test, display_labels=class_names, \n",
    "                             cmap=plt.cm.Blues, values_format='.6g')\n",
    "\n",
    "plt.show()"
   ]
  },
  {
   "cell_type": "code",
   "execution_count": 36,
   "metadata": {
    "scrolled": true
   },
   "outputs": [
    {
     "name": "stdout",
     "output_type": "stream",
     "text": [
      "              precision    recall  f1-score   support\n",
      "\n",
      "       False       0.29      0.71      0.41     20153\n",
      "        True       0.94      0.74      0.83    131997\n",
      "\n",
      "    accuracy                           0.73    152150\n",
      "   macro avg       0.62      0.72      0.62    152150\n",
      "weighted avg       0.86      0.73      0.77    152150\n",
      "\n"
     ]
    }
   ],
   "source": [
    "predictions = classifier.predict(x_test)\n",
    "print(classification_report(y_test, predictions))"
   ]
  },
  {
   "cell_type": "code",
   "execution_count": null,
   "metadata": {},
   "outputs": [],
   "source": []
  }
 ],
 "metadata": {
  "kernelspec": {
   "display_name": "Python 3",
   "language": "python",
   "name": "python3"
  },
  "language_info": {
   "codemirror_mode": {
    "name": "ipython",
    "version": 3
   },
   "file_extension": ".py",
   "mimetype": "text/x-python",
   "name": "python",
   "nbconvert_exporter": "python",
   "pygments_lexer": "ipython3",
   "version": "3.8.4"
  }
 },
 "nbformat": 4,
 "nbformat_minor": 4
}
