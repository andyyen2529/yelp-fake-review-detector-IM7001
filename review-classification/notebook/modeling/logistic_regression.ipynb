{
 "cells": [
  {
   "cell_type": "code",
   "execution_count": 1,
   "metadata": {},
   "outputs": [
    {
     "name": "stderr",
     "output_type": "stream",
     "text": [
      "/home/kevin/.pyenv/versions/3.7.3/envs/IM7001/lib/python3.7/site-packages/pandas/compat/__init__.py:120: UserWarning: Could not import the lzma module. Your installed Python is incomplete. Attempting to use lzma compression will result in a RuntimeError.\n",
      "  warnings.warn(msg)\n"
     ]
    }
   ],
   "source": [
    "from sklearn.feature_extraction.text import CountVectorizer\n",
    "from sklearn.model_selection import train_test_split\n",
    "from sklearn.linear_model import LogisticRegression\n",
    "from sklearn.metrics import classification_report\n",
    "from sklearn.metrics import plot_confusion_matrix\n",
    "from imblearn.over_sampling import SMOTE\n",
    "from collections import Counter\n",
    "\n",
    "import itertools\n",
    "import pandas as pd\n",
    "import numpy as np\n",
    "import scipy as sp\n",
    "import matplotlib.pyplot as plt\n",
    "import time\n",
    "\n",
    "np.set_printoptions(suppress=True)"
   ]
  },
  {
   "cell_type": "code",
   "execution_count": 2,
   "metadata": {
    "scrolled": false
   },
   "outputs": [
    {
     "data": {
      "text/html": [
       "<div>\n",
       "<style scoped>\n",
       "    .dataframe tbody tr th:only-of-type {\n",
       "        vertical-align: middle;\n",
       "    }\n",
       "\n",
       "    .dataframe tbody tr th {\n",
       "        vertical-align: top;\n",
       "    }\n",
       "\n",
       "    .dataframe thead th {\n",
       "        text-align: right;\n",
       "    }\n",
       "</style>\n",
       "<table border=\"1\" class=\"dataframe\">\n",
       "  <thead>\n",
       "    <tr style=\"text-align: right;\">\n",
       "      <th></th>\n",
       "      <th>userId</th>\n",
       "      <th>prodId</th>\n",
       "      <th>date</th>\n",
       "      <th>content</th>\n",
       "      <th>content_len</th>\n",
       "      <th>label</th>\n",
       "      <th>rating</th>\n",
       "      <th>overall_review_similarity</th>\n",
       "      <th>review_count_today</th>\n",
       "      <th>rating_deviation</th>\n",
       "      <th>tokenize_content</th>\n",
       "      <th>tokenize_content_len</th>\n",
       "      <th>corpus</th>\n",
       "    </tr>\n",
       "  </thead>\n",
       "  <tbody>\n",
       "    <tr>\n",
       "      <th>0</th>\n",
       "      <td>5044</td>\n",
       "      <td>0</td>\n",
       "      <td>2014-11-16</td>\n",
       "      <td>Drinks were bad, the hot chocolate was watered...</td>\n",
       "      <td>36</td>\n",
       "      <td>-1</td>\n",
       "      <td>1.0</td>\n",
       "      <td>0.0000</td>\n",
       "      <td>1</td>\n",
       "      <td>2.613636</td>\n",
       "      <td>[drink, bad, hot, chocolate, watered, latte, b...</td>\n",
       "      <td>17</td>\n",
       "      <td>drink bad hot chocolate watered latte burnt ta...</td>\n",
       "    </tr>\n",
       "    <tr>\n",
       "      <th>1</th>\n",
       "      <td>5045</td>\n",
       "      <td>0</td>\n",
       "      <td>2014-09-08</td>\n",
       "      <td>This was the worst experience I've ever had a ...</td>\n",
       "      <td>248</td>\n",
       "      <td>-1</td>\n",
       "      <td>1.0</td>\n",
       "      <td>0.0000</td>\n",
       "      <td>1</td>\n",
       "      <td>2.613636</td>\n",
       "      <td>[worst, experience, ive, ever, casual, coffeel...</td>\n",
       "      <td>122</td>\n",
       "      <td>worst experience ive ever casual coffeelight f...</td>\n",
       "    </tr>\n",
       "    <tr>\n",
       "      <th>2</th>\n",
       "      <td>5046</td>\n",
       "      <td>0</td>\n",
       "      <td>2013-10-06</td>\n",
       "      <td>This is located on the site of the old Spruce ...</td>\n",
       "      <td>50</td>\n",
       "      <td>-1</td>\n",
       "      <td>3.0</td>\n",
       "      <td>0.3298</td>\n",
       "      <td>1</td>\n",
       "      <td>0.613636</td>\n",
       "      <td>[located, site, old, spruce, st, video, mild, ...</td>\n",
       "      <td>24</td>\n",
       "      <td>located site old spruce st video mild cofee go...</td>\n",
       "    </tr>\n",
       "    <tr>\n",
       "      <th>3</th>\n",
       "      <td>5047</td>\n",
       "      <td>0</td>\n",
       "      <td>2014-11-30</td>\n",
       "      <td>I enjoyed coffee and breakfast twice at Toast ...</td>\n",
       "      <td>233</td>\n",
       "      <td>-1</td>\n",
       "      <td>5.0</td>\n",
       "      <td>0.0000</td>\n",
       "      <td>1</td>\n",
       "      <td>1.386364</td>\n",
       "      <td>[enjoyed, coffee, breakfast, twice, toast, rec...</td>\n",
       "      <td>129</td>\n",
       "      <td>enjoyed coffee breakfast twice toast recent vi...</td>\n",
       "    </tr>\n",
       "    <tr>\n",
       "      <th>4</th>\n",
       "      <td>5048</td>\n",
       "      <td>0</td>\n",
       "      <td>2014-08-28</td>\n",
       "      <td>I love Toast! The food choices are fantastic -...</td>\n",
       "      <td>152</td>\n",
       "      <td>-1</td>\n",
       "      <td>5.0</td>\n",
       "      <td>0.0000</td>\n",
       "      <td>1</td>\n",
       "      <td>1.386364</td>\n",
       "      <td>[love, toast, food, choice, fantastic, love, s...</td>\n",
       "      <td>79</td>\n",
       "      <td>love toast food choice fantastic love serve br...</td>\n",
       "    </tr>\n",
       "  </tbody>\n",
       "</table>\n",
       "</div>"
      ],
      "text/plain": [
       "   userId  prodId        date  \\\n",
       "0    5044       0  2014-11-16   \n",
       "1    5045       0  2014-09-08   \n",
       "2    5046       0  2013-10-06   \n",
       "3    5047       0  2014-11-30   \n",
       "4    5048       0  2014-08-28   \n",
       "\n",
       "                                             content  content_len  label  \\\n",
       "0  Drinks were bad, the hot chocolate was watered...           36     -1   \n",
       "1  This was the worst experience I've ever had a ...          248     -1   \n",
       "2  This is located on the site of the old Spruce ...           50     -1   \n",
       "3  I enjoyed coffee and breakfast twice at Toast ...          233     -1   \n",
       "4  I love Toast! The food choices are fantastic -...          152     -1   \n",
       "\n",
       "   rating  overall_review_similarity  review_count_today  rating_deviation  \\\n",
       "0     1.0                     0.0000                   1          2.613636   \n",
       "1     1.0                     0.0000                   1          2.613636   \n",
       "2     3.0                     0.3298                   1          0.613636   \n",
       "3     5.0                     0.0000                   1          1.386364   \n",
       "4     5.0                     0.0000                   1          1.386364   \n",
       "\n",
       "                                    tokenize_content  tokenize_content_len  \\\n",
       "0  [drink, bad, hot, chocolate, watered, latte, b...                    17   \n",
       "1  [worst, experience, ive, ever, casual, coffeel...                   122   \n",
       "2  [located, site, old, spruce, st, video, mild, ...                    24   \n",
       "3  [enjoyed, coffee, breakfast, twice, toast, rec...                   129   \n",
       "4  [love, toast, food, choice, fantastic, love, s...                    79   \n",
       "\n",
       "                                              corpus  \n",
       "0  drink bad hot chocolate watered latte burnt ta...  \n",
       "1  worst experience ive ever casual coffeelight f...  \n",
       "2  located site old spruce st video mild cofee go...  \n",
       "3  enjoyed coffee breakfast twice toast recent vi...  \n",
       "4  love toast food choice fantastic love serve br...  "
      ]
     },
     "execution_count": 2,
     "metadata": {},
     "output_type": "execute_result"
    }
   ],
   "source": [
    "yelpZip_preprocessed = pd.read_pickle('../../data/processed/yelpZip_preprocessed.pkl')\n",
    "\n",
    "yelpZip_data = yelpZip_preprocessed.copy()\n",
    "yelpZip_data.head()"
   ]
  },
  {
   "cell_type": "markdown",
   "metadata": {},
   "source": [
    "# Experiment 1  - without removing top N common words"
   ]
  },
  {
   "cell_type": "markdown",
   "metadata": {},
   "source": [
    "## Prepare dataset to feed into model"
   ]
  },
  {
   "cell_type": "code",
   "execution_count": 3,
   "metadata": {},
   "outputs": [],
   "source": [
    "yelpZip_data['label'].replace(1, True, inplace=True)\n",
    "yelpZip_data['label'].replace(-1, False, inplace=True)"
   ]
  },
  {
   "cell_type": "code",
   "execution_count": 4,
   "metadata": {},
   "outputs": [],
   "source": [
    "x_train, x_test, y_train, y_test = train_test_split(yelpZip_data.drop('label',axis=1), yelpZip_data['label'], test_size=0.25, random_state=42)"
   ]
  },
  {
   "cell_type": "markdown",
   "metadata": {},
   "source": [
    "### 1. Transform corpus to vector"
   ]
  },
  {
   "cell_type": "code",
   "execution_count": 5,
   "metadata": {},
   "outputs": [
    {
     "name": "stdout",
     "output_type": "stream",
     "text": [
      "Complete in 0.0m 21.006685256958008s\n"
     ]
    }
   ],
   "source": [
    "since = time.time()\n",
    "\n",
    "vectorizer = CountVectorizer(max_features= 15000)\n",
    "vectorizer.fit(x_train['corpus'])\n",
    "\n",
    "time_elapsed = time.time() - since\n",
    "print(f'Complete in {time_elapsed // 60}m {time_elapsed % 60}s')"
   ]
  },
  {
   "cell_type": "code",
   "execution_count": 6,
   "metadata": {},
   "outputs": [
    {
     "name": "stdout",
     "output_type": "stream",
     "text": [
      "Complete in 0.0m 29.016160488128662s\n"
     ]
    }
   ],
   "source": [
    "since = time.time()\n",
    "\n",
    "x_train_review_vector = vectorizer.transform(x_train['corpus'])\n",
    "x_test_review_vector  = vectorizer.transform(x_test['corpus'])\n",
    "\n",
    "time_elapsed = time.time() - since\n",
    "print(f'Complete in {time_elapsed // 60}m {time_elapsed % 60}s')"
   ]
  },
  {
   "cell_type": "markdown",
   "metadata": {},
   "source": [
    "### 2. Concat vectorized features with other features"
   ]
  },
  {
   "cell_type": "code",
   "execution_count": 7,
   "metadata": {},
   "outputs": [],
   "source": [
    "features = ['overall_review_similarity', 'review_count_today', 'rating_deviation', 'tokenize_content_len']\n",
    "\n",
    "x_train = sp.sparse.hstack((x_train_review_vector, x_train[features].values))\n",
    "x_test = sp.sparse.hstack((x_test_review_vector, x_test[features].values))"
   ]
  },
  {
   "cell_type": "markdown",
   "metadata": {},
   "source": [
    "## Train and Evaluate"
   ]
  },
  {
   "cell_type": "markdown",
   "metadata": {},
   "source": [
    "### Experiment 1A. Without Oversampling"
   ]
  },
  {
   "cell_type": "code",
   "execution_count": 8,
   "metadata": {},
   "outputs": [
    {
     "name": "stdout",
     "output_type": "stream",
     "text": [
      "Accuracy: 0.8690765691751561\n",
      "\n",
      "Complete in 0.0m 15.063467502593994s\n"
     ]
    }
   ],
   "source": [
    "since = time.time()\n",
    "\n",
    "classifier = LogisticRegression(max_iter=100, n_jobs=-1)\n",
    "classifier.fit(x_train, y_train)\n",
    "score = classifier.score(x_test, y_test)\n",
    "\n",
    "print(f'Accuracy: {score}\\n')\n",
    "time_elapsed = time.time() - since\n",
    "print(f'Complete in {time_elapsed // 60}m {time_elapsed % 60}s')"
   ]
  },
  {
   "cell_type": "code",
   "execution_count": 9,
   "metadata": {},
   "outputs": [
    {
     "data": {
      "image/png": "[encoded data removed]",
      "text/plain": [
       "<Figure size 432x288 with 2 Axes>"
      ]
     },
     "metadata": {
      "needs_background": "light"
     },
     "output_type": "display_data"
    }
   ],
   "source": [
    "class_names = ['Fake Review', 'True Review']\n",
    "\n",
    "disp = plot_confusion_matrix(classifier, x_test, y_test, display_labels=class_names, \n",
    "                             cmap=plt.cm.Blues, values_format='.6g')\n",
    "\n",
    "plt.show()"
   ]
  },
  {
   "cell_type": "code",
   "execution_count": 10,
   "metadata": {},
   "outputs": [
    {
     "name": "stdout",
     "output_type": "stream",
     "text": [
      "              precision    recall  f1-score   support\n",
      "\n",
      "       False       0.54      0.08      0.14     20153\n",
      "        True       0.88      0.99      0.93    131997\n",
      "\n",
      "    accuracy                           0.87    152150\n",
      "   macro avg       0.71      0.53      0.53    152150\n",
      "weighted avg       0.83      0.87      0.82    152150\n",
      "\n"
     ]
    }
   ],
   "source": [
    "predictions = classifier.predict(x_test)\n",
    "print(classification_report(y_test, predictions))"
   ]
  },
  {
   "cell_type": "markdown",
   "metadata": {},
   "source": [
    "### Experiment 1B. With Oversampling"
   ]
  },
  {
   "cell_type": "code",
   "execution_count": 11,
   "metadata": {},
   "outputs": [
    {
     "name": "stdout",
     "output_type": "stream",
     "text": [
      "Complete in 3.0m 47.25663924217224s\n"
     ]
    }
   ],
   "source": [
    "since = time.time()\n",
    "\n",
    "ros = SMOTE(random_state=42)\n",
    "x_train_oversampled, y_train_oversampled = ros.fit_resample(x_train, y_train)\n",
    "\n",
    "time_elapsed = time.time() - since\n",
    "print(f'Complete in {time_elapsed // 60}m {time_elapsed % 60}s')"
   ]
  },
  {
   "cell_type": "code",
   "execution_count": 12,
   "metadata": {},
   "outputs": [
    {
     "name": "stdout",
     "output_type": "stream",
     "text": [
      "Accuracy: 0.7375681892868879\n",
      "\n",
      "Complete in 0.0m 27.570631504058838s\n"
     ]
    }
   ],
   "source": [
    "since = time.time()\n",
    "\n",
    "classifier = LogisticRegression(max_iter=100, n_jobs=-1)\n",
    "classifier.fit(x_train_oversampled, y_train_oversampled)\n",
    "score = classifier.score(x_test, y_test)\n",
    "\n",
    "print(f'Accuracy: {score}\\n')\n",
    "time_elapsed = time.time() - since\n",
    "print(f'Complete in {time_elapsed // 60}m {time_elapsed % 60}s')"
   ]
  },
  {
   "cell_type": "code",
   "execution_count": 13,
   "metadata": {},
   "outputs": [
    {
     "data": {
      "image/png": "[encoded data removed]",
      "text/plain": [
       "<Figure size 432x288 with 2 Axes>"
      ]
     },
     "metadata": {
      "needs_background": "light"
     },
     "output_type": "display_data"
    }
   ],
   "source": [
    "class_names = ['Fake Review', 'True Review']\n",
    "\n",
    "disp = plot_confusion_matrix(classifier, x_test, y_test, display_labels=class_names, \n",
    "                             cmap=plt.cm.Blues, values_format='.6g')\n",
    "\n",
    "plt.show()"
   ]
  },
  {
   "cell_type": "code",
   "execution_count": 14,
   "metadata": {
    "scrolled": true
   },
   "outputs": [
    {
     "name": "stdout",
     "output_type": "stream",
     "text": [
      "              precision    recall  f1-score   support\n",
      "\n",
      "       False       0.30      0.72      0.42     20153\n",
      "        True       0.95      0.74      0.83    131997\n",
      "\n",
      "    accuracy                           0.74    152150\n",
      "   macro avg       0.62      0.73      0.63    152150\n",
      "weighted avg       0.86      0.74      0.78    152150\n",
      "\n"
     ]
    }
   ],
   "source": [
    "predictions = classifier.predict(x_test)\n",
    "print(classification_report(y_test, predictions))"
   ]
  },
  {
   "cell_type": "code",
   "execution_count": null,
   "metadata": {},
   "outputs": [],
   "source": []
  },
  {
   "cell_type": "markdown",
   "metadata": {},
   "source": [
    "# Experiment 2 - remove top N common words"
   ]
  },
  {
   "cell_type": "markdown",
   "metadata": {},
   "source": [
    "## Prepare dataset to feed into model"
   ]
  },
  {
   "cell_type": "code",
   "execution_count": 15,
   "metadata": {},
   "outputs": [],
   "source": [
    "x_train, x_test, y_train, y_test = train_test_split(yelpZip_data.drop('label',axis=1), yelpZip_data['label'], test_size=0.25, random_state=42)"
   ]
  },
  {
   "cell_type": "markdown",
   "metadata": {},
   "source": [
    "### 1. Calculate top n common words in both Fake and True reviews"
   ]
  },
  {
   "cell_type": "code",
   "execution_count": 16,
   "metadata": {},
   "outputs": [
    {
     "name": "stdout",
     "output_type": "stream",
     "text": [
      "['place', 'great', 'really', 'service', 'time', 'restaurant', 'would', 'delicious', 'like', 'back', 'go', 'best', 'get', 'one', 'food', 'good']\n",
      "there are 16 common word in top 20 words\n"
     ]
    }
   ],
   "source": [
    "top_n = 20\n",
    "\n",
    "true_word_list = list(yelpZip_data[yelpZip_data['label']==True]['tokenize_content'])\n",
    "true_word_list = list(itertools.chain.from_iterable(true_word_list))\n",
    "true_word_common = Counter(true_word_list).most_common(top_n)\n",
    "\n",
    "fake_word_list = list(yelpZip_data[yelpZip_data['label']!=True]['tokenize_content'])\n",
    "fake_word_list = list(itertools.chain.from_iterable(fake_word_list))\n",
    "fake_word_common = Counter(fake_word_list).most_common(top_n)\n",
    "\n",
    "df_true = pd.DataFrame(true_word_common)\n",
    "df_false = pd.DataFrame(fake_word_common)\n",
    "common_words = list(set(df_true.iloc[:,0]) & set(df_false.iloc[:,0]))\n",
    "print(common_words)\n",
    "print(f'there are {len(common_words)} common word in top {top_n} words')"
   ]
  },
  {
   "cell_type": "markdown",
   "metadata": {},
   "source": [
    "### 2. Transform corpus to vector"
   ]
  },
  {
   "cell_type": "code",
   "execution_count": 17,
   "metadata": {},
   "outputs": [
    {
     "name": "stdout",
     "output_type": "stream",
     "text": [
      "Complete in 0.0m 22.931886911392212s\n"
     ]
    }
   ],
   "source": [
    "since = time.time()\n",
    "\n",
    "vectorizer = CountVectorizer(max_features= 15000, stop_words=common_words)\n",
    "vectorizer.fit(x_train['corpus'])\n",
    "\n",
    "time_elapsed = time.time() - since\n",
    "print(f'Complete in {time_elapsed // 60}m {time_elapsed % 60}s')"
   ]
  },
  {
   "cell_type": "code",
   "execution_count": 18,
   "metadata": {},
   "outputs": [
    {
     "name": "stdout",
     "output_type": "stream",
     "text": [
      "Complete in 0.0m 30.2525053024292s\n"
     ]
    }
   ],
   "source": [
    "since = time.time()\n",
    "\n",
    "x_train_review_vector = vectorizer.transform(x_train['corpus'])\n",
    "x_test_review_vector  = vectorizer.transform(x_test['corpus'])\n",
    "\n",
    "time_elapsed = time.time() - since\n",
    "print(f'Complete in {time_elapsed // 60}m {time_elapsed % 60}s')"
   ]
  },
  {
   "cell_type": "markdown",
   "metadata": {},
   "source": [
    "### 3. Concat vectorized features with other features"
   ]
  },
  {
   "cell_type": "code",
   "execution_count": 19,
   "metadata": {},
   "outputs": [],
   "source": [
    "features = ['overall_review_similarity', 'review_count_today', 'rating_deviation', 'tokenize_content_len']\n",
    "\n",
    "x_train = sp.sparse.hstack((x_train_review_vector, x_train[features].values))\n",
    "x_test = sp.sparse.hstack((x_test_review_vector, x_test[features].values))"
   ]
  },
  {
   "cell_type": "markdown",
   "metadata": {},
   "source": [
    "## Train and Evaluate"
   ]
  },
  {
   "cell_type": "markdown",
   "metadata": {},
   "source": [
    "### Experiment 2A. Without Oversampling"
   ]
  },
  {
   "cell_type": "code",
   "execution_count": 20,
   "metadata": {},
   "outputs": [
    {
     "name": "stdout",
     "output_type": "stream",
     "text": [
      "Accuracy: 0.8695234965494578\n",
      "\n",
      "Complete in 0.0m 13.283277750015259s\n"
     ]
    }
   ],
   "source": [
    "since = time.time()\n",
    "\n",
    "classifier = LogisticRegression(max_iter=100, n_jobs=-1)\n",
    "classifier.fit(x_train, y_train)\n",
    "score = classifier.score(x_test, y_test)\n",
    "\n",
    "print(f'Accuracy: {score}\\n')\n",
    "time_elapsed = time.time() - since\n",
    "print(f'Complete in {time_elapsed // 60}m {time_elapsed % 60}s')"
   ]
  },
  {
   "cell_type": "code",
   "execution_count": 21,
   "metadata": {},
   "outputs": [
    {
     "data": {
      "image/png": "[encoded data removed]",
      "text/plain": [
       "<Figure size 432x288 with 2 Axes>"
      ]
     },
     "metadata": {
      "needs_background": "light"
     },
     "output_type": "display_data"
    }
   ],
   "source": [
    "class_names = ['Fake Review', 'True Review']\n",
    "\n",
    "disp = plot_confusion_matrix(classifier, x_test, y_test, display_labels=class_names, \n",
    "                             cmap=plt.cm.Blues, values_format='.6g')\n",
    "\n",
    "plt.show()"
   ]
  },
  {
   "cell_type": "code",
   "execution_count": 22,
   "metadata": {},
   "outputs": [
    {
     "name": "stdout",
     "output_type": "stream",
     "text": [
      "              precision    recall  f1-score   support\n",
      "\n",
      "       False       0.55      0.08      0.13     20153\n",
      "        True       0.88      0.99      0.93    131997\n",
      "\n",
      "    accuracy                           0.87    152150\n",
      "   macro avg       0.71      0.53      0.53    152150\n",
      "weighted avg       0.83      0.87      0.82    152150\n",
      "\n"
     ]
    }
   ],
   "source": [
    "predictions = classifier.predict(x_test)\n",
    "print(classification_report(y_test, predictions))"
   ]
  },
  {
   "cell_type": "markdown",
   "metadata": {},
   "source": [
    "### Experiment 2B. With Oversampling"
   ]
  },
  {
   "cell_type": "code",
   "execution_count": 23,
   "metadata": {},
   "outputs": [
    {
     "name": "stdout",
     "output_type": "stream",
     "text": [
      "Complete in 3.0m 38.60737991333008s\n"
     ]
    }
   ],
   "source": [
    "since = time.time()\n",
    "\n",
    "ros = SMOTE(random_state=42)\n",
    "x_train_oversampled, y_train_oversampled = ros.fit_resample(x_train, y_train)\n",
    "\n",
    "time_elapsed = time.time() - since\n",
    "print(f'Complete in {time_elapsed // 60}m {time_elapsed % 60}s')"
   ]
  },
  {
   "cell_type": "code",
   "execution_count": 24,
   "metadata": {},
   "outputs": [
    {
     "name": "stdout",
     "output_type": "stream",
     "text": [
      "Accuracy: 0.7355110088728228\n",
      "\n",
      "Complete in 0.0m 22.786044359207153s\n"
     ]
    }
   ],
   "source": [
    "since = time.time()\n",
    "\n",
    "classifier = LogisticRegression(max_iter=100, n_jobs=-1)\n",
    "classifier.fit(x_train_oversampled, y_train_oversampled)\n",
    "score = classifier.score(x_test, y_test)\n",
    "\n",
    "print(f'Accuracy: {score}\\n')\n",
    "time_elapsed = time.time() - since\n",
    "print(f'Complete in {time_elapsed // 60}m {time_elapsed % 60}s')"
   ]
  },
  {
   "cell_type": "code",
   "execution_count": 25,
   "metadata": {},
   "outputs": [
    {
     "data": {
      "image/png": "[encoded data removed]",
      "text/plain": [
       "<Figure size 432x288 with 2 Axes>"
      ]
     },
     "metadata": {
      "needs_background": "light"
     },
     "output_type": "display_data"
    }
   ],
   "source": [
    "class_names = ['Fake Review', 'True Review']\n",
    "\n",
    "disp = plot_confusion_matrix(classifier, x_test, y_test, display_labels=class_names, \n",
    "                             cmap=plt.cm.Blues, values_format='.6g')\n",
    "\n",
    "plt.show()"
   ]
  },
  {
   "cell_type": "code",
   "execution_count": 26,
   "metadata": {
    "scrolled": true
   },
   "outputs": [
    {
     "name": "stdout",
     "output_type": "stream",
     "text": [
      "              precision    recall  f1-score   support\n",
      "\n",
      "       False       0.30      0.72      0.42     20153\n",
      "        True       0.94      0.74      0.83    131997\n",
      "\n",
      "    accuracy                           0.74    152150\n",
      "   macro avg       0.62      0.73      0.62    152150\n",
      "weighted avg       0.86      0.74      0.77    152150\n",
      "\n"
     ]
    }
   ],
   "source": [
    "predictions = classifier.predict(x_test)\n",
    "print(classification_report(y_test, predictions))"
   ]
  },
  {
   "cell_type": "code",
   "execution_count": null,
   "metadata": {},
   "outputs": [],
   "source": []
  }
 ],
 "metadata": {
  "kernelspec": {
   "display_name": "Python 3",
   "language": "python",
   "name": "python3"
  },
  "language_info": {
   "codemirror_mode": {
    "name": "ipython",
    "version": 3
   },
   "file_extension": ".py",
   "mimetype": "text/x-python",
   "name": "python",
   "nbconvert_exporter": "python",
   "pygments_lexer": "ipython3",
   "version": "3.7.3"
  }
 },
 "nbformat": 4,
 "nbformat_minor": 4
}
